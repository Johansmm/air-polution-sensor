{
 "cells": [
  {
   "cell_type": "markdown",
   "metadata": {
    "id": "a-rhep67R-Pe"
   },
   "source": [
    "[#air-polution-sensor](https://github.com/Johansmm/air-polution-sensor)"
   ]
  },
  {
   "cell_type": "markdown",
   "metadata": {
    "id": "M_YQLSc_IHJc"
   },
   "source": [
    " # Analyse spatio-temporelle de signaux pour détecter la dérive de capteurs mesurant la qualité de l'air\n",
    " \n",
    " Project summary (coming soon) ..."
   ]
  },
  {
   "cell_type": "markdown",
   "metadata": {
    "id": "ox-7Xry6Khia"
   },
   "source": [
    "## **Introduction**"
   ]
  },
  {
   "cell_type": "code",
   "execution_count": null,
   "metadata": {
    "executionInfo": {
     "elapsed": 2864,
     "status": "ok",
     "timestamp": 1614592670104,
     "user": {
      "displayName": "tatiana moreno",
      "photoUrl": "https://lh3.googleusercontent.com/a-/AOh14Ghcb6UqDRSLB3ZZ5QeBSpZfcM7hssUIYSIbQsHh=s64",
      "userId": "02108020887084399148"
     },
     "user_tz": -60
    },
    "id": "VUcPLCl2mTts"
   },
   "outputs": [],
   "source": [
    "# Libraries\n",
    "# Basis libraries \n",
    "import sys, getpass, os, copy\n",
    "import numpy as np\n",
    "import scipy.signal\n",
    "from matplotlib import rc\n",
    "import matplotlib.pyplot as plt\n",
    "from IPython.display import clear_output\n",
    "import pandas as pd\n",
    "import matplotlib.pyplot as plt\n",
    "import plotly.express as px\n",
    "import plotly.graph_objects as go\n",
    "from plotly.subplots import make_subplots\n",
    "import plotly.io as pio\n",
    "import scipy.signal\n",
    "import ipywidgets\n",
    "# Library for boxplots\n",
    "# font = {'family':'sans-serif','sans-serif':['Helvetica'], 'size':18}\n",
    "# rc('font', **font)\n",
    "# rc('text', usetex=True)"
   ]
  },
  {
   "cell_type": "code",
   "execution_count": null,
   "metadata": {
    "colab": {
     "base_uri": "https://localhost:8080/"
    },
    "executionInfo": {
     "elapsed": 24832,
     "status": "ok",
     "timestamp": 1614592692215,
     "user": {
      "displayName": "tatiana moreno",
      "photoUrl": "https://lh3.googleusercontent.com/a-/AOh14Ghcb6UqDRSLB3ZZ5QeBSpZfcM7hssUIYSIbQsHh=s64",
      "userId": "02108020887084399148"
     },
     "user_tz": -60
    },
    "id": "XFn6Bq7ZgEmp",
    "outputId": "2caeabe8-ef43-4459-f8ee-fe8281eedd82"
   },
   "outputs": [],
   "source": [
    "# Colab access\n",
    "IN_COLAB = 'google.colab' in sys.modules\n",
    "if IN_COLAB:\n",
    "    from google.colab import drive\n",
    "    drive.mount('/content/gdrive')\n",
    "\n",
    "# If you work-directory don't match, please add the new path to pwd_list\n",
    "cwd_list = [\"/content/gdrive/My Drive/S5 Project: Air polution/air-polution-sensor/\",\n",
    "            \"/content/gdrive/My Drive/Colab Notebooks/ProyectS5/air-polution-sensor/\",\n",
    "            \"/content/drive/MyDrive/IMT Atlantique/Project_S5_Air/\",\n",
    "            os.path.join(os.getcwd(),\"air-polution-sensor\"),\n",
    "            os.path.join(os.getcwd(),\"..\")]\n",
    "\n",
    "\n",
    "for cwd in cwd_list:\n",
    "    if os.path.isdir(cwd) and os.path.split(os.getcwd())[-1] != \"air-polution-sensor\":\n",
    "        %cd \"$cwd\"\n",
    "        break\n",
    "if os.path.split(os.getcwd())[-1] != \"air-polution-sensor\":\n",
    "    print(\"[WARNING]: Incorrect working directory. Please add the fix-directory to the pwd_list.\")\n",
    "else: \n",
    "    print(\"[INFO]: Work directory: \" + os.getcwd())"
   ]
  },
  {
   "cell_type": "markdown",
   "metadata": {
    "id": "uTMEWxUCIHJj"
   },
   "source": [
    "## **Download repository**\n",
    "First, we will download the repository that contains the project [air-polution-sensor](https://github.com/Johansmm/air-polution-sensor.git). This process is optional, being necessary to activate the flag `download_repo` and enter the `user`, `email` and `password` of the repository (since the repository is initially private). Additionally you can enable the `download_db` option to download the database."
   ]
  },
  {
   "cell_type": "code",
   "execution_count": null,
   "metadata": {
    "colab": {
     "base_uri": "https://localhost:8080/"
    },
    "executionInfo": {
     "elapsed": 26475,
     "status": "ok",
     "timestamp": 1614592693869,
     "user": {
      "displayName": "tatiana moreno",
      "photoUrl": "https://lh3.googleusercontent.com/a-/AOh14Ghcb6UqDRSLB3ZZ5QeBSpZfcM7hssUIYSIbQsHh=s64",
      "userId": "02108020887084399148"
     },
     "user_tz": -60
    },
    "id": "M_ArY6OPIHJk",
    "outputId": "e0f5911e-5a6f-4ceb-a699-077bf8751742"
   },
   "outputs": [],
   "source": [
    "if not os.path.isdir(\"./data/origin_data\"):\n",
    "    if not os.path.isdir(\"./data\"): os.mkdir(\"./data\")\n",
    "    if not os.path.isdir(\"./data/origin_data\"): os.mkdir(\"./data/origin_data\")\n",
    "    !wget --output-document=\"./data/data.zip\" \"https://www.dropbox.com/sh/w1704rg9fd9z4pq/AABG3YCUMHTwbFhf3pKgti-Qa/PuneData_UseThis/August2019?dl=0&subfolder_nav_tracking=1\"\n",
    "    !unzip \"./data/data.zip\" -d \"./data/origin_data\"\n",
    "\n",
    "if not os.path.isfile(\"./data/super_df.csv\"):\n",
    "    !unrar x \"./data/super_df.rar\" \"./data/\"\n",
    "\n",
    "clear_output(wait = True)\n",
    "print(\"[INFO]: Data downloaded successfully!\")"
   ]
  },
  {
   "cell_type": "code",
   "execution_count": null,
   "metadata": {
    "colab": {
     "base_uri": "https://localhost:8080/"
    },
    "executionInfo": {
     "elapsed": 37202,
     "status": "ok",
     "timestamp": 1614592704607,
     "user": {
      "displayName": "tatiana moreno",
      "photoUrl": "https://lh3.googleusercontent.com/a-/AOh14Ghcb6UqDRSLB3ZZ5QeBSpZfcM7hssUIYSIbQsHh=s64",
      "userId": "02108020887084399148"
     },
     "user_tz": -60
    },
    "id": "B9FmgEdBIUxB",
    "outputId": "efef39ef-2ed3-45bb-b5d1-9b3af1bfca3d"
   },
   "outputs": [],
   "source": [
    "# Specefic libraries\n",
    "%load_ext autoreload\n",
    "%autoreload 2\n",
    "#!pip install -r requirements.txt\n",
    "from libraries.global_functions import *\n",
    "from libraries.animation_utils import *\n",
    "\n",
    "# Random seed\n",
    "np.random.seed(0)\n",
    "clear_output(wait = True)\n",
    "print(\"[INFO]: Successfully loaded libraries!\")"
   ]
  },
  {
   "cell_type": "code",
   "execution_count": null,
   "metadata": {
    "colab": {
     "base_uri": "https://localhost:8080/"
    },
    "executionInfo": {
     "elapsed": 47846,
     "status": "ok",
     "timestamp": 1614592715261,
     "user": {
      "displayName": "tatiana moreno",
      "photoUrl": "https://lh3.googleusercontent.com/a-/AOh14Ghcb6UqDRSLB3ZZ5QeBSpZfcM7hssUIYSIbQsHh=s64",
      "userId": "02108020887084399148"
     },
     "user_tz": -60
    },
    "id": "NX6lDNDBwcBU",
    "outputId": "1ce468ee-f395-497a-9749-ae57693b54a3"
   },
   "outputs": [],
   "source": [
    "if IN_COLAB:\n",
    "    !sudo apt-get install python3-dev graphviz libgraphviz-dev pkg-config\n",
    "    clear_output(wait = True)\n",
    "else:\n",
    "    print(\"[INFO]: If you have problems, remember execute the following code:\\n>> sudo apt-get install python3-dev graphviz libgraphviz-dev pkg-config\")"
   ]
  },
  {
   "cell_type": "markdown",
   "metadata": {
    "id": "KP0Jc6wwR-Ph"
   },
   "source": [
    "## **Examples of library uses**\n",
    "\n",
    "In order to explain some function of `global_functions` library, let's start with three particulars examples:\n",
    "1. Replication of results to verify library functionality\n",
    "2. Simple example with signal traveling through the network.\n",
    "3. Drift example."
   ]
  },
  {
   "cell_type": "markdown",
   "metadata": {
    "id": "0b4janEovf6J"
   },
   "source": [
    "### **Function performance**\n",
    "\n",
    "In this section we will verify the functionality of the library with the estimation of some results of the `Vertex-Frequency Analysis on Graphs` article (Shuman D. 2013). Specifically, we will focus the analysis to \"replicate\" the results of figures 14 and 15 of this article.\n",
    "\n",
    "**Note:** It is clarified that the exact results cannot be obtained, because the exact information of the network configuration is not available."
   ]
  },
  {
   "cell_type": "markdown",
   "metadata": {
    "id": "AH7KWV2Gvf6J"
   },
   "source": [
    "Let's start with the definition of the network and the signal at each node."
   ]
  },
  {
   "cell_type": "code",
   "execution_count": null,
   "metadata": {
    "executionInfo": {
     "elapsed": 48458,
     "status": "ok",
     "timestamp": 1614592715875,
     "user": {
      "displayName": "tatiana moreno",
      "photoUrl": "https://lh3.googleusercontent.com/a-/AOh14Ghcb6UqDRSLB3ZZ5QeBSpZfcM7hssUIYSIbQsHh=s64",
      "userId": "02108020887084399148"
     },
     "user_tz": -60
    },
    "id": "3vWhVcmavf6J"
   },
   "outputs": [],
   "source": [
    "# Constants\n",
    "SPACE_GRAPH_ORDER, TIME_GRAPH_ORDER = 100, 30\n",
    "NOISE_LEVEL = 0.1\n",
    "\n",
    "# Graph definition\n",
    "groups = np.array([0]*(SPACE_GRAPH_ORDER//2) + [1]*(SPACE_GRAPH_ORDER - SPACE_GRAPH_ORDER//2))\n",
    "graph = [create_stochastic_graph(SPACE_GRAPH_ORDER, k = 2, z = groups, p=[0.25, 0.25], q = 0.01), \n",
    "        create_path_graph(TIME_GRAPH_ORDER)]"
   ]
  },
  {
   "cell_type": "code",
   "execution_count": null,
   "metadata": {
    "executionInfo": {
     "elapsed": 48457,
     "status": "ok",
     "timestamp": 1614592715876,
     "user": {
      "displayName": "tatiana moreno",
      "photoUrl": "https://lh3.googleusercontent.com/a-/AOh14Ghcb6UqDRSLB3ZZ5QeBSpZfcM7hssUIYSIbQsHh=s64",
      "userId": "02108020887084399148"
     },
     "user_tz": -60
    },
    "id": "tKGoMTi1W7XJ"
   },
   "outputs": [],
   "source": [
    "def sin_signal(SGO = SPACE_GRAPH_ORDER, TGO = TIME_GRAPH_ORDER, groups = None, nl = 0.0):\n",
    "    if groups is None or len(groups) != SGO: # Time and space offset same-frequency sinusoidals\n",
    "        time_series = np.sin(np.linspace([0], 4*np.pi, SGO))*np.cos(np.linspace(0, 2*np.pi, TGO))\n",
    "        time_series -= np.cos(np.linspace([0], 4*np.pi, SGO))*np.sin(np.linspace(0, 2*np.pi, TGO))\n",
    "        if groups is not None: print(\"[WARNING] len(groups) != SGO. Groups ignored.\")\n",
    "    else:\n",
    "        inds, time_series = [], np.array([]).reshape(0,TGO)\n",
    "        for i in np.unique(groups):\n",
    "            ind = [j for j,v in enumerate(groups) if v == i]\n",
    "            signal = np.sin(np.linspace([0], 4*(i+1)*np.pi, len(ind)))*np.cos(np.linspace(0, 4*(i+1)*np.pi, TGO))\n",
    "            signal -= np.cos(np.linspace([0], 4*(i+1)*np.pi, len(ind)))*np.sin(np.linspace(0, 4*(i+1)*np.pi, TGO))\n",
    "            time_series = np.append(time_series, signal, axis = 0)\n",
    "            inds += ind # Sort final signals with this values\n",
    "        time_series = time_series[inds]\n",
    "            \n",
    "    time_series += nl * np.random.randn(*time_series.shape) # Add noise\n",
    "    return time_series"
   ]
  },
  {
   "cell_type": "code",
   "execution_count": null,
   "metadata": {
    "colab": {
     "base_uri": "https://localhost:8080/",
     "height": 1000
    },
    "id": "sXtL58SfW7XK",
    "outputId": "02b97c80-60ed-4603-fb0a-0a9a824be34c",
    "scrolled": false
   },
   "outputs": [],
   "source": [
    "# Signal definition\n",
    "sig_vert = sin_signal(groups = groups, nl = NOISE_LEVEL)\n",
    "gft_signal_anima(graph[1], sig_vert, is_graph_space = True)\n",
    "gft_signal_anima(graph[0], sig_vert, is_graph_space = False)"
   ]
  },
  {
   "cell_type": "markdown",
   "metadata": {
    "id": "7Tbzkh6Fvf6K"
   },
   "source": [
    "The result of graphing the different eigenvectors on the architecture would be:"
   ]
  },
  {
   "cell_type": "code",
   "execution_count": null,
   "metadata": {
    "id": "8QmBkO0cvf6K",
    "scrolled": false
   },
   "outputs": [],
   "source": [
    "# SPACE_KERNEL_SCALE = 10\n",
    "# eigenvec_anima(graph, sig_vert[:,12], SPACE_KERNEL_SCALE)\n",
    "kernel_anima(graph, (20,10), windows_kernels = [5, 100])"
   ]
  },
  {
   "cell_type": "code",
   "execution_count": null,
   "metadata": {
    "id": "JuybL7rGW7XO"
   },
   "outputs": [],
   "source": [
    "# window_kernel = create_heat_kernel (graph, SPACE_KERNEL_SCALE)\n",
    "# spectrogram = compute_graph_spectrogram (graph, sig_vert, window_kernel)\n",
    "# plot_matrix(spectrogram, cols_title = \"Vertex\", cols_labels=range(graph.N), rows_title=\"Eigenvalue index\", \n",
    "#             colorbar=True, rows_labels=[\"$\\lambda^G_{\" + str(x) + \"}$\" for x in range(graph.N)], title=\"Spatial-graph spectrogram\")\n",
    "\n",
    "spectogram_anima(graph[0], sig_vert, SKS = 3, is_graph_space = True)#, limits = [0.0, 0.5])"
   ]
  },
  {
   "cell_type": "code",
   "execution_count": null,
   "metadata": {
    "id": "8fL6iVBGW7XO"
   },
   "outputs": [],
   "source": [
    "spectogram_anima(graph[1], sig_vert, SKS = 100, is_graph_space = False)"
   ]
  },
  {
   "cell_type": "code",
   "execution_count": null,
   "metadata": {
    "id": "31On1Av3W7XO"
   },
   "outputs": [],
   "source": [
    "kernels, joint_spectogram = JFT_anima(graph, sig_vert, [1, 15])"
   ]
  },
  {
   "cell_type": "markdown",
   "metadata": {
    "id": "ByzsXuvjvf6K"
   },
   "source": [
    "### **Signal traveling in the network**\n",
    "\n",
    "Let's create two graphs that will represent the spatial and temporal dimension, respectively. The spatial network will be represented by a stochastic network (`create_stochastic_graph`), while the temporal notion will be provided by a path network (`create_path_graph`)."
   ]
  },
  {
   "cell_type": "code",
   "execution_count": null,
   "metadata": {
    "id": "w66DglcMR-Ph"
   },
   "outputs": [],
   "source": [
    "# Constants\n",
    "SPACE_GRAPH_ORDER, SPACE_KERNEL_SCALE = 40, 20\n",
    "TIME_GRAPH_ORDER, TIME_KERNEL_SCALE = 50, 20\n",
    "dT = 10.0/TIME_GRAPH_ORDER # Time sample\n",
    "LEVEL_NOISE = 0.1"
   ]
  },
  {
   "cell_type": "code",
   "execution_count": null,
   "metadata": {
    "id": "KG0mSruaR-Ph"
   },
   "outputs": [],
   "source": [
    "# Space-time graph definition\n",
    "groups = np.array([0]*(SPACE_GRAPH_ORDER//2) + [1] * (SPACE_GRAPH_ORDER - SPACE_GRAPH_ORDER//2))\n",
    "space_time_graph = [create_stochastic_graph(SPACE_GRAPH_ORDER, k = 2, z = groups, p=[0.6, 0.6], q = 0.05), \n",
    "         create_path_graph(TIME_GRAPH_ORDER)]\n",
    "\n",
    "plot_graph(space_time_graph[0], groups)\n",
    "plot_graph(space_time_graph[1])"
   ]
  },
  {
   "cell_type": "markdown",
   "metadata": {
    "id": "iblytelnHYAL"
   },
   "source": [
    "#### **Time variance function**\n",
    "\n",
    "In this section is shown a function capable of showing the variation of the network in time"
   ]
  },
  {
   "cell_type": "markdown",
   "metadata": {
    "id": "gWplr9oUR-Ph"
   },
   "source": [
    "Now, we will define a time series for each group of nodes present in the space network. We will then take an increasing signal for the group of nodes labeled '0', and a decreasing signal for the remaining nodes, giving us the notion that the signal \"is traveling\" from group 1 to group 0. We will add some white noise for general purposes.\n",
    "\n",
    "In order to visualize and understand how the signal \"travels\" through the network, a time-dependent simulation was fabricated."
   ]
  },
  {
   "cell_type": "code",
   "execution_count": null,
   "metadata": {
    "id": "g46L4t5xR-Ph",
    "scrolled": false
   },
   "outputs": [],
   "source": [
    "# Create a simple graph signal (sigmoid for group0 and inverse sigmoid for group1)\n",
    "def signal_def(SGO = SPACE_GRAPH_ORDER, TGO = TIME_GRAPH_ORDER, dT = dT, plot_fun = False, nl = 0.01): \n",
    "    t = np.linspace(0, TIME_GRAPH_ORDER*dT, TIME_GRAPH_ORDER)\n",
    "    sig = 1/(1 + np.exp(-t + 0.5*TIME_GRAPH_ORDER*dT)) # Sigmoid fun\n",
    "    sig_inv = 1/(1 + np.exp(t - 0.5*TIME_GRAPH_ORDER*dT)) # Sigmoid inverse fun\n",
    "    time_series = np.zeros((SGO,TGO))\n",
    "    time_series[:SGO//2, :], time_series[SGO//2:, :] = sig, sig_inv\n",
    "    time_series += nl*np.random.randn(*time_series.shape)\n",
    "    \n",
    "    if plot_fun: # If we want, we can show the both function in a new plot\n",
    "        fig, ax = plt.subplots(ncols = 2, figsize=(12,6))\n",
    "        t_mid = str(round(0.5*TIME_GRAPH_ORDER*dT,2))\n",
    "        ax[0].plot(t, time_series[SGO//2 - 10, :]); ax[1].plot(t, time_series[SGO//2 + 10, :])\n",
    "        ax[0].set_ylabel(\"$\\\\frac{1}{1+\\exp(-x + \" + t_mid + \")}$\"); ax[0].set_xlabel(\"$x$\")\n",
    "        ax[1].set_ylabel(\"$\\\\frac{1}{1+\\exp(x - \" + t_mid + \")}$\"); ax[1].set_xlabel(\"$x$\")\n",
    "        ax[0].grid(\"minor\"); ax[1].grid(\"minor\"); plt.show()\n",
    "    return time_series\n",
    "\n",
    "time_series = signal_def(space_time_graph[0].N, space_time_graph[1].N, dT, nl = LEVEL_NOISE, plot_fun = False)\n",
    "signal_graph_anima(space_time_graph, time_series)"
   ]
  },
  {
   "cell_type": "markdown",
   "metadata": {
    "id": "hgEvAmalIkGe"
   },
   "source": [
    "#### **GFT in time and space**\n",
    "\n",
    "In this section we present functions to calculate the graph fourier transform in time and space"
   ]
  },
  {
   "cell_type": "markdown",
   "metadata": {
    "id": "--UUf0ReR-Pi"
   },
   "source": [
    "To check that the desired signal was processed correctly, the signal on a particular node and its Graph Fourier Transform (GFT) can be displayed with the following code section. Remember that the signal for the same group of nodes is the same. This can be seen again in the next cell, where the same procedure is presented for the temporary graph."
   ]
  },
  {
   "cell_type": "code",
   "execution_count": null,
   "metadata": {
    "id": "_Qqo-WoLvf6L"
   },
   "outputs": [],
   "source": [
    "gft_signal_anima(space_time_graph[1], time_series, is_graph_space = True)"
   ]
  },
  {
   "cell_type": "code",
   "execution_count": null,
   "metadata": {
    "id": "VeGVjFUivf6L"
   },
   "outputs": [],
   "source": [
    "gft_signal_anima(space_time_graph[0], time_series, is_graph_space = False)"
   ]
  },
  {
   "cell_type": "markdown",
   "metadata": {
    "id": "WUyKei82R-Pi"
   },
   "source": [
    "Having correctly defined the signal to use, let's make a joint analysis of the space-time graph. "
   ]
  },
  {
   "cell_type": "markdown",
   "metadata": {
    "id": "CewWTdTbJEXt"
   },
   "source": [
    "#### **Spectrogram for disjoint GFT**\n",
    "\n",
    "To have a more detailed understanding, we will first analyze the graphs separately. The following function allows to display the spectrogram of each network by selecting a specific time (for the spatial graph) or a specific vertex (for the temporal graph), depending on the case."
   ]
  },
  {
   "cell_type": "code",
   "execution_count": null,
   "metadata": {
    "id": "hhtE92n2vf6L"
   },
   "outputs": [],
   "source": [
    "spectogram_anima(space_time_graph[0], time_series, SKS = SPACE_KERNEL_SCALE, is_graph_space = True, limits = [0.0, 0.5])"
   ]
  },
  {
   "cell_type": "code",
   "execution_count": null,
   "metadata": {
    "id": "HMqSLVUtvf6L"
   },
   "outputs": [],
   "source": [
    "spectogram_anima(space_time_graph[1], time_series, SKS = TIME_KERNEL_SCALE, is_graph_space = False, limits = None)"
   ]
  },
  {
   "cell_type": "markdown",
   "metadata": {
    "id": "_PkrhdnFR-Pi"
   },
   "source": [
    "* **Spatial-graph:** Let's remember that all the vertices in a group have the same signal, so, in a specific instant of time, the signal of each node is \"constant\". This is represented in the graphical-spatial spectrogram, where the only eigenvalues with considerable magnitudes are those of low order, which represent the low frequencies. As time passes, we see how the magnitudes of the nodes in group 0 begin to decrease, while those in group 1 begin to increase. However, this only happens at low frequencies.\n",
    "\n",
    "* **Time-graph:** Focusing on the signal from only one particular node, we know that changes in sigmoidal and inverse sigmoidal signals are smooth, so your spectrogram will have non-null values in low order eigenvalues. Unlike the spatial spectogram, the presence of eigenvalues with magnitudes different from zero is evident, since the signal $s(v_i, t)$ for the vertex $v_i$ changes with time, unlike its counterpart, whose signal $s(v, t_j)$ is \"constant\" (without considering the introduced noise) at time $t_j$ for a group of vertices.  Finally, it is appreciated that, for the nodes of group0, the magnitudes of the spectogram increase through time, unlike the nodes of group0, whose behavior is inverse. "
   ]
  },
  {
   "cell_type": "markdown",
   "metadata": {
    "id": "4Mj_ZEwfR-Pi"
   },
   "source": [
    "#### **Spectrogram for joint GFT**\n",
    "\n",
    "Now we will enter to observe the properties of the space-time joint spectrogram. This is possible thanks to the following function. Since the joint spectrogram is in principle a two-dimensional array for each possible combination in space and time, we have as a result an array in $\\mathbb{R}^4$, being useful to indicate a specific vertex and instant, looking for interpretability."
   ]
  },
  {
   "cell_type": "code",
   "execution_count": null,
   "metadata": {
    "id": "NGcVr60gW7XT",
    "scrolled": false
   },
   "outputs": [],
   "source": [
    "kernel_anima(space_time_graph, (15,10), windows_kernels = [1, 15])"
   ]
  },
  {
   "cell_type": "code",
   "execution_count": null,
   "metadata": {
    "colab": {
     "background_save": true
    },
    "id": "Q8rb37B7vf6L"
   },
   "outputs": [],
   "source": [
    "kernels, joint_spectogram = JFT_anima(space_time_graph, time_series, [3, 8])"
   ]
  },
  {
   "cell_type": "markdown",
   "metadata": {
    "id": "1vp_3lQpR-Pi"
   },
   "source": [
    "Taking into account that the joint spectrogram estimates different spectrograms, each of them centered on the combination ($v_i$, $t_j$), the analysis of the results should be done for each possible combination, arriving at the following statements:\n",
    "\n",
    "1.  As explained above, the process occurs at \"low frequencies\" for any possible event, both in space and time, which directly affects the joint spectrogram, being only possible to see non-zero magnitudes in the upper left region (low orders of eigenvalues of space and time).\n",
    "2.  The signal $s(v_i,t)$ has more frequency components compared to the signal $s(v,t_i)$, being possible to observe in the spectrogram for any combination. The reason is explained above.\n",
    "3.  The magnitudes of the spectrogram for the combinations in the first instants of time and $v_i \\in$ group0 or final instants of time and $v_i \\in$ group1 are of low value in comparison to their counterpart, respectively. This is consistent with the shape of the signal at each vertex and for each instant of time."
   ]
  },
  {
   "cell_type": "markdown",
   "metadata": {
    "id": "4O1ZDssYvf6M"
   },
   "source": [
    "### **Drift example**"
   ]
  },
  {
   "cell_type": "markdown",
   "metadata": {
    "id": "SobE3NP5Jvl6"
   },
   "source": [
    "#### Graph-signal definition"
   ]
  },
  {
   "cell_type": "code",
   "execution_count": null,
   "metadata": {
    "colab": {
     "background_save": true
    },
    "id": "mAWm2jSFvf6M"
   },
   "outputs": [],
   "source": [
    "# Constants\n",
    "SPACE_GRAPH_ORDER_D, SPACE_KERNEL_SCALE_D = 64, 4#3\n",
    "TIME_GRAPH_ORDER_D, TIME_KERNEL_SCALE_D = 100, 1000#20\n",
    "ddT = 10.0/TIME_GRAPH_ORDER_D # Time sample\n",
    "LEVEL_NOISE_D, BREAK_TIME_D, STD_D = 0.2, 20, 0.3 # LN, brownian Motion (BM) start-point and SD in BM"
   ]
  },
  {
   "cell_type": "code",
   "execution_count": null,
   "metadata": {
    "colab": {
     "background_save": true
    },
    "id": "z6Xg7288vf6M"
   },
   "outputs": [],
   "source": [
    "# Functions to signal definition\n",
    "def brownian(x0, n, dt, delta, out = None):\n",
    "    # https://scipy-cookbook.readthedocs.io/items/BrownianMotion.html\n",
    "    x0 = np.asarray(x0)\n",
    "    \n",
    "    # For each element of x0, generate a sample of n numbers from a normal distribution.\n",
    "    r = np.random.normal(0.0, delta, x0.shape + (n,))*np.sqrt(dt)\n",
    "    \n",
    "    # If `out` was not given, create an output array.\n",
    "    if out is None: out = np.empty(r.shape)\n",
    "        \n",
    "    # This computes the Brownian motion by forming the cumulative sum of the random samples. \n",
    "    np.cumsum(r, axis=-1, out=out)\n",
    "\n",
    "    # Add the initial condition.\n",
    "    out += np.expand_dims(x0, axis=-1)\n",
    "    return out\n",
    "    \n",
    "def drift_signal(SGO = SPACE_GRAPH_ORDER_D, TGO = TIME_GRAPH_ORDER_D, BT = BREAK_TIME_D, \n",
    "                 dT = 1.0, nl = 0.01, delta = 2.0, groups = None):\n",
    "    if groups is None:\n",
    "        signal = np.sin(np.linspace(0, (TGO//BT)*4*np.pi, TGO)) # Signal base (until BREAK_TIME)\n",
    "        time_series = np.ones((SGO,1))*signal[None] # Same signal for all nodes\n",
    "    else:\n",
    "        time_series = []\n",
    "        for i in groups:\n",
    "            t0 = 2*np.pi*i/len(np.unique(groups))\n",
    "            time_series += [np.sin(np.linspace(0,(TGO//BT)*4*np.pi, TGO) + t0)]\n",
    "        time_series = np.stack(time_series, axis = 0)\n",
    "            \n",
    "    time_series += nl * np.random.randn(*time_series.shape) # Add noise\n",
    "    \n",
    "    # Add Brownian Motion with t = BT start point\n",
    "    brownian(time_series[0,BT - 1], TGO - BT, dT, delta, out = time_series[0,BT:])\n",
    "    return time_series"
   ]
  },
  {
   "cell_type": "code",
   "execution_count": null,
   "metadata": {
    "colab": {
     "background_save": true
    },
    "id": "PfmFMy5bJvl7"
   },
   "outputs": [],
   "source": [
    "# Example\n",
    "t = np.linspace(0, TIME_GRAPH_ORDER_D*ddT, TIME_GRAPH_ORDER_D)\n",
    "t = np.ones((SPACE_GRAPH_ORDER_D,1))*t[None]\n",
    "y = np.zeros((SPACE_GRAPH_ORDER_D,TIME_GRAPH_ORDER_D))\n",
    "y = brownian(y[:,0], TIME_GRAPH_ORDER_D, ddT, STD_D)\n",
    "plot_curves(t, y, xlabel = \"time\", ylabel = \"Wiener processes\")#, file_name = \"./wiener_process.png\")"
   ]
  },
  {
   "cell_type": "code",
   "execution_count": null,
   "metadata": {
    "colab": {
     "background_save": true
    },
    "id": "_St_pieTvf6M"
   },
   "outputs": [],
   "source": [
    "# Space-time graph definition\n",
    "groups = np.array([0]*32 + [1]*24 + [2]*8)\n",
    "space_time_drift_graph = [create_stochastic_graph(SPACE_GRAPH_ORDER_D, k = 3, z = groups, p=[0.3, 0.4, 0.8], q = 0.01), \n",
    "         create_path_graph(TIME_GRAPH_ORDER_D)]\n",
    "\n",
    "# Signal definition\n",
    "#time_drift_series = drift_signal(dT = ddT, nl = LEVEL_NOISE_D, BT = BREAK_TIME_D, delta = STD_D, groups = groups)\n",
    "time_drift_series = drift_signal(dT = ddT, nl = LEVEL_NOISE_D, BT = BREAK_TIME_D, delta = STD_D)\n",
    "\n",
    "t = np.linspace(0, TIME_GRAPH_ORDER_D*ddT, TIME_GRAPH_ORDER_D)\n",
    "t = np.ones((SPACE_GRAPH_ORDER_D,1))*t[None]\n",
    "plot_curves(t, time_drift_series, xlabel = \"time\", ylabel = \"Vertex-magnitud\")\n",
    "#plot_curves(t[:], time_drift_series, xlabel = \"time\", ylabel = \"Vertex-magnitud\")"
   ]
  },
  {
   "cell_type": "code",
   "execution_count": null,
   "metadata": {
    "colab": {
     "background_save": true
    },
    "id": "fqNyDVF27G1v"
   },
   "outputs": [],
   "source": [
    "signal_graph_anima(space_time_drift_graph, time_drift_series)"
   ]
  },
  {
   "cell_type": "markdown",
   "metadata": {
    "id": "p1zPc-5VJvl8"
   },
   "source": [
    "#### Spectrum analysis"
   ]
  },
  {
   "cell_type": "code",
   "execution_count": null,
   "metadata": {
    "colab": {
     "background_save": true
    },
    "id": "aH-lAJsSW7XV"
   },
   "outputs": [],
   "source": [
    "kernel_anima(space_time_drift_graph, (15,10), windows_kernels = [1, 400])"
   ]
  },
  {
   "cell_type": "code",
   "execution_count": null,
   "metadata": {
    "colab": {
     "background_save": true
    },
    "id": "sX4LwSee7G1w"
   },
   "outputs": [],
   "source": [
    "spectogram_anima(space_time_drift_graph[0], time_drift_series, SKS = 2, is_graph_space = True)#, limits = [0.0, 0.5])"
   ]
  },
  {
   "cell_type": "code",
   "execution_count": null,
   "metadata": {
    "colab": {
     "background_save": true
    },
    "id": "JHEHVQel7G1w"
   },
   "outputs": [],
   "source": [
    "spectogram_anima(space_time_drift_graph[1], time_drift_series, SKS = 8, is_graph_space = False)#, limits = [0.0, 0.5])"
   ]
  },
  {
   "cell_type": "code",
   "execution_count": null,
   "metadata": {
    "colab": {
     "background_save": true
    },
    "id": "sWsOYTnz7G1w"
   },
   "outputs": [],
   "source": [
    "kernels, joint_spectogram = JFT_anima(space_time_drift_graph, time_drift_series, [2, 8])"
   ]
  },
  {
   "cell_type": "markdown",
   "metadata": {
    "id": "lQ0v3RdJJvl-"
   },
   "source": [
    "#### Drift detection"
   ]
  },
  {
   "cell_type": "code",
   "execution_count": null,
   "metadata": {
    "colab": {
     "background_save": true
    },
    "id": "O9yP1AddJvl_"
   },
   "outputs": [],
   "source": [
    "SPACE_WINDOW, TIME_WINDOW = 1, 15"
   ]
  },
  {
   "cell_type": "code",
   "execution_count": null,
   "metadata": {
    "colab": {
     "background_save": true
    },
    "id": "MpSEyLPiJvl_"
   },
   "outputs": [],
   "source": [
    "def norm_matrix_estimation(joint_spectogram, sw, tw):\n",
    "    norm_matrix = np.zeros((joint_spectogram.shape[0] - sw,joint_spectogram.shape[1] - tw))\n",
    "    for i in range(joint_spectogram.shape[0] - sw):\n",
    "        for j in range(joint_spectogram.shape[1] - tw):\n",
    "            norm_matrix[i,j] = np.linalg.norm(joint_spectogram[:,:,i:i + sw,j:j + tw])\n",
    "    return norm_matrix\n",
    "\n",
    "norm_matrix = norm_matrix_estimation(joint_spectogram, SPACE_WINDOW, TIME_WINDOW)\n",
    "plot_matrix(norm_matrix, rows_labels = [\"$v_{\"+str(i)+\"}$\" for i in range(norm_matrix.shape[0])], \n",
    "            cols_labels = [\"$t_{\"+str(i)+\"}$\" for i in range(norm_matrix.shape[1])], \n",
    "            rows_title = \"Vertex\", cols_title = \"Instant\", title = \"Window spectogram normalization\", colorbar = True)"
   ]
  },
  {
   "cell_type": "code",
   "execution_count": null,
   "metadata": {
    "colab": {
     "background_save": true
    },
    "id": "S0R9obRpJvl_"
   },
   "outputs": [],
   "source": [
    "# plot_dist_matrix(joint_spectogram, SPACE_WINDOW, TIME_WINDOW, filename = './data/drift_joint_sp.csv')"
   ]
  },
  {
   "cell_type": "markdown",
   "metadata": {
    "id": "IfUQkGTJY6Eq"
   },
   "source": [
    "## **Example with real sensor data**\n",
    "\n",
    "In this section we will make an implementation with the real information about the location of the sensors to be treated in the project"
   ]
  },
  {
   "cell_type": "markdown",
   "metadata": {
    "id": "hRBEIaqoswxZ"
   },
   "source": [
    "### **Weight matrix**"
   ]
  },
  {
   "cell_type": "markdown",
   "metadata": {
    "id": "e07tD3EuZUvr"
   },
   "source": [
    "First the adjacent matrix is imported then the thresholded Gaussian kernel weighting function is used to smooth the graph"
   ]
  },
  {
   "cell_type": "code",
   "execution_count": null,
   "metadata": {
    "colab": {
     "background_save": true
    },
    "id": "pZVmjAMAaVAy"
   },
   "outputs": [],
   "source": [
    "W = pd.read_csv('data/Pune_SensorLocationDistances.csv',header=0).set_index('0')\n",
    "W.describe()"
   ]
  },
  {
   "cell_type": "code",
   "execution_count": null,
   "metadata": {},
   "outputs": [],
   "source": []
  },
  {
   "cell_type": "code",
   "execution_count": null,
   "metadata": {
    "colab": {
     "background_save": true
    },
    "id": "lWo0LlZGKnpg"
   },
   "outputs": [],
   "source": [
    "Indices = [ 1,  4,  5,  6,  7,  8,  9, 10, 11, 12, 13, 14, 15, 16, 17, 19, 21,\n",
    "            22, 23, 24, 25, 26, 27, 28, 30, 31, 33, 34, 35, 36, 37, 38, 39, 40,\n",
    "            41, 42, 43, 45, 46, 48, 50, 51, 59]\n",
    "W.columns = [int(x) for x in W.columns]\n",
    "W= W.loc[Indices,Indices]\n"
   ]
  },
  {
   "cell_type": "code",
   "execution_count": null,
   "metadata": {
    "colab": {
     "background_save": true
    },
    "id": "ps_JglzqQbde"
   },
   "outputs": [],
   "source": [
    "fig = px.imshow(W)\n",
    "fig.update_layout(\n",
    "    title='Adjacent matrix')\n",
    "fig.show()"
   ]
  },
  {
   "cell_type": "code",
   "execution_count": null,
   "metadata": {
    "colab": {
     "background_save": true
    },
    "id": "FD6pOSI1ac68"
   },
   "outputs": [],
   "source": [
    "Theta, k = 4, 10 #Choosen values of k and theta\n",
    "W_normal = Norm_W(W.copy(),Theta,k) \n",
    "A=W_normal.values"
   ]
  },
  {
   "cell_type": "code",
   "execution_count": null,
   "metadata": {
    "colab": {
     "background_save": true
    },
    "id": "hUD71nkeN_1E"
   },
   "outputs": [],
   "source": [
    "fig = px.imshow(W_normal)\n",
    "fig.update_layout(\n",
    "    title='Adjacent matrix')\n",
    "fig.show()"
   ]
  },
  {
   "cell_type": "code",
   "execution_count": null,
   "metadata": {
    "colab": {
     "background_save": true
    },
    "id": "itWqZ26_Xz-N"
   },
   "outputs": [],
   "source": [
    "A_neigh = Neighboors(A,5)\n",
    "np.fill_diagonal(A_neigh, 0)"
   ]
  },
  {
   "cell_type": "markdown",
   "metadata": {
    "id": "fzVGOJ9WGqwU"
   },
   "source": [
    "#### **Bandwidth Reduction** \n",
    "\n",
    "[source 1 ](https://https://algorist.com/problems/Bandwidth_Reduction.html)\n",
    "\n",
    "[source 2](https://docs.scipy.org/doc/scipy/reference/generated/scipy.sparse.csgraph.reverse_cuthill_mckee.html)"
   ]
  },
  {
   "cell_type": "code",
   "execution_count": null,
   "metadata": {
    "colab": {
     "background_save": true
    },
    "id": "BxSW2Hd4nA7o"
   },
   "outputs": [],
   "source": [
    "# Theta, k = 4, 6\n",
    "# W_normal = Norm_W(W.copy(),Theta,k) #Theta = 0.1 , k = 0.7\n",
    "# A_b=W_normal.values"
   ]
  },
  {
   "cell_type": "code",
   "execution_count": null,
   "metadata": {
    "colab": {
     "background_save": true
    },
    "id": "SJlIo0KYkjWV"
   },
   "outputs": [],
   "source": [
    "#Function\n",
    "from scipy.sparse import csr_matrix\n",
    "from scipy.sparse.csgraph import reverse_cuthill_mckee\n",
    "\n",
    "#Function\n",
    "def ReOrderGraph(A):\n",
    "  csrMatrix = csr_matrix(A)\n",
    "  perm = reverse_cuthill_mckee(csrMatrix)\n",
    "  A_reorder = csrMatrix[perm, :][:, perm].toarray()\n",
    "  return A_reorder\n",
    "\n",
    "def Graph_Nodes(A):\n",
    "  dt = [('len', float)]\n",
    "  A = A.view(dt)\n",
    "  G = nx.from_numpy_matrix(A)\n",
    "  pos = nx.spring_layout(G, k=0.5*1/np.sqrt(len(G.nodes())), iterations=50)\n",
    "  figure = pyplot.figure(figsize=(20, 10))\n",
    "  nx.draw(G,pos=nx.spring_layout(G,pos=pos),with_labels = True)\n",
    "  xyz = np.array([pos[v] for v in sorted(G)])\n",
    "  return xyz"
   ]
  },
  {
   "cell_type": "code",
   "execution_count": null,
   "metadata": {
    "colab": {
     "background_save": true
    },
    "id": "DPQR4HjRicik"
   },
   "outputs": [],
   "source": [
    "import networkx as nx\n",
    "xyz = Graph_Nodes(A_neigh)"
   ]
  },
  {
   "cell_type": "code",
   "execution_count": null,
   "metadata": {
    "colab": {
     "background_save": true
    },
    "id": "xruBlT_fknWM"
   },
   "outputs": [],
   "source": [
    "import networkx as nx\n",
    "A_reorder = ReOrderGraph(A_neigh)\n",
    "xyz = Graph_Nodes(A_reorder)"
   ]
  },
  {
   "cell_type": "code",
   "execution_count": null,
   "metadata": {
    "colab": {
     "background_save": true
    },
    "id": "U_JR7neVkrUz"
   },
   "outputs": [],
   "source": [
    "from pygsp import graphs\n",
    "\n",
    "graph = graphs.Graph(A_reorder)\n",
    "graph.set_coordinates(xyz)\n",
    "graph.compute_fourier_basis()\n",
    "plot_graph(graph)"
   ]
  },
  {
   "cell_type": "code",
   "execution_count": null,
   "metadata": {
    "colab": {
     "background_save": true
    },
    "id": "SQpFEK3-LP5m"
   },
   "outputs": [],
   "source": [
    "fig = px.imshow(A_reorder)\n",
    "fig.update_layout(\n",
    "    title='Adjacent matrix')\n",
    "fig.show()"
   ]
  },
  {
   "cell_type": "code",
   "execution_count": null,
   "metadata": {
    "colab": {
     "background_save": true
    },
    "id": "HEWu_mB2W7Xg"
   },
   "outputs": [],
   "source": [
    "def project_and_transpose(eigenvals, eigenvcts, num_ev):\n",
    "    \"\"\"Select the eigenvectors corresponding to the first \n",
    "    (sorted) num_ev eigenvalues as columns in a data frame.\n",
    "    \"\"\"\n",
    "    eigenvals_sorted_indices = np.argsort(eigenvals)\n",
    "    indices = eigenvals_sorted_indices[: num_ev]\n",
    "\n",
    "    proj_df = pd.DataFrame(eigenvcts[:, indices.squeeze()])\n",
    "    proj_df.columns = ['v_' + str(c) for c in proj_df.columns]\n",
    "    return proj_df\n",
    "\n",
    "def spectral_clustering(eigenvals, eigenvcts, n_clusters):\n",
    "    \"\"\"Spectral Clustering Algorithm.\"\"\"\n",
    "    proj_df = project_and_transpose(eigenvals, eigenvcts, n_clusters)\n",
    "    cluster = run_k_means(proj_df, proj_df.columns.size)\n",
    "    return cluster\n",
    "\n",
    "proj_df = project_and_transpose(graph.e, graph.U, 5)"
   ]
  },
  {
   "cell_type": "code",
   "execution_count": null,
   "metadata": {
    "colab": {
     "background_save": true
    },
    "id": "rD_IXkaKW7Xg"
   },
   "outputs": [],
   "source": [
    "from sklearn.cluster import KMeans\n",
    "from sklearn import metrics\n",
    "\n",
    "inertias = []\n",
    "\n",
    "k_candidates = range(1, 20)\n",
    "\n",
    "for k in k_candidates:\n",
    "    k_means = KMeans(random_state=42, n_clusters=k)\n",
    "    k_means.fit(proj_df)\n",
    "    inertias.append(k_means.inertia_)\n",
    "    \n",
    "import seaborn as sns\n",
    "sns.set_style('darkgrid', {'axes.facecolor': '.9'})\n",
    "sns.set_palette(palette='deep')\n",
    "sns_c = sns.color_palette(palette='deep')\n",
    "\n",
    "fig, ax = plt.subplots(figsize=(10, 6))\n",
    "sns.scatterplot(x=k_candidates, y = inertias, s=80, ax=ax)\n",
    "sns.lineplot(x=k_candidates, y = inertias, alpha=0.5, ax=ax)\n",
    "ax.set(title='Inertia K-Means', ylabel='inertia', xlabel='k');"
   ]
  },
  {
   "cell_type": "code",
   "execution_count": null,
   "metadata": {
    "colab": {
     "background_save": true
    },
    "id": "PdRySdvQbMn2"
   },
   "outputs": [],
   "source": [
    "def run_k_means(df, n_clusters):\n",
    "    \"\"\"K-means clustering.\"\"\"\n",
    "    k_means = KMeans(random_state=25, n_clusters=n_clusters)\n",
    "    k_means.fit(df)\n",
    "    cluster = k_means.predict(df)\n",
    "    return cluster\n",
    "\n",
    "def spectral_clustering(eigenvals, eigenvcts, n_clusters):\n",
    "    \"\"\"Spectral Clustering Algorithm.\"\"\"\n",
    "    proj_df = project_and_transpose(eigenvals, eigenvcts, n_clusters)\n",
    "    cluster = run_k_means(proj_df, proj_df.columns.size)\n",
    "    return cluster"
   ]
  },
  {
   "cell_type": "code",
   "execution_count": null,
   "metadata": {
    "colab": {
     "background_save": true
    },
    "id": "fWkW3LGtaypV"
   },
   "outputs": [],
   "source": [
    "Index_cluster= spectral_clustering(graph.e, graph.U,5)\n",
    "index = np.argsort(Index_cluster)"
   ]
  },
  {
   "cell_type": "code",
   "execution_count": null,
   "metadata": {
    "colab": {
     "background_save": true
    },
    "id": "oa0RycBPbQfJ"
   },
   "outputs": [],
   "source": [
    "dt = [('len', float)]\n",
    "A_s = A_reorder.view(dt)\n",
    "G = nx.from_numpy_matrix(A_s)\n",
    "pos = nx.spring_layout(G, k=0.5*1/np.sqrt(len(G.nodes())), iterations=50)\n",
    "figure = pyplot.figure(figsize=(20, 10))\n",
    "nx.draw(G,pos=nx.spring_layout(G,pos=pos),with_labels = True,node_color = Index_cluster, cmap = 'rainbow')"
   ]
  },
  {
   "cell_type": "code",
   "execution_count": null,
   "metadata": {
    "colab": {
     "background_save": true
    },
    "id": "AAaouEKlUnsv"
   },
   "outputs": [],
   "source": [
    "np.where(Index_cluster ==0)[0]"
   ]
  },
  {
   "cell_type": "markdown",
   "metadata": {
    "id": "n-ENXLKBTgNk"
   },
   "source": [
    "### Signal definition\n",
    "Now we create a function that defines the signal to be implemented on the space network. Let's see how each signal looks in all the vertex."
   ]
  },
  {
   "cell_type": "code",
   "execution_count": null,
   "metadata": {
    "colab": {
     "background_save": true
    },
    "id": "ZW-1pSYHjm1p"
   },
   "outputs": [],
   "source": [
    "matplotlib.rcParams[\"image.cmap\"] = 'viridis'\n",
    "\n",
    "# Constants\n",
    "SPACE_GRAPH_ORDER, SPACE_KERNEL_SCALE = graph.N, 1 #40, 3\n",
    "TIME_GRAPH_ORDER, TIME_KERNEL_SCALE = 50, 200\n",
    "dT = 10.0/TIME_GRAPH_ORDER # Time sample\n",
    "LEVEL_NOISE, BREAK_TIME, STD = 0.3, 20, 0.4 # LN, brownian Motion (BM) start-point and SD in BM"
   ]
  },
  {
   "cell_type": "code",
   "execution_count": null,
   "metadata": {
    "id": "fms76B1ETgNl"
   },
   "outputs": [],
   "source": [
    "# Functions to signal definition\n",
    "def brownian(x0, n, dt, delta, out = None):\n",
    "    # https://scipy-cookbook.readthedocs.io/items/BrownianMotion.html\n",
    "    x0 = np.asarray(x0)\n",
    "    \n",
    "    # For each element of x0, generate a sample of n numbers from a normal distribution.\n",
    "    r = np.random.normal(0.0, delta, x0.shape + (n,))*np.sqrt(dt)\n",
    "    \n",
    "    # If `out` was not given, create an output array.\n",
    "    if out is None: out = np.empty(r.shape)\n",
    "        \n",
    "    # This computes the Brownian motion by forming the cumulative sum of the random samples. \n",
    "    np.cumsum(r, axis=-1, out=out)\n",
    "\n",
    "    # Add the initial condition.\n",
    "    out += np.expand_dims(x0, axis=-1)\n",
    "    return out\n",
    "    \n",
    "def drift_signal(SGO = SPACE_GRAPH_ORDER, TGO = TIME_GRAPH_ORDER, BT = BREAK_TIME, \n",
    "                 dT = 1.0, nl = 0.01, delta = 2.0, groups = None, drift_vertex = [0]):\n",
    "    periods = 2\n",
    "    if groups is None:\n",
    "        signal = np.sin(np.linspace(0, (TGO//BT)*periods*np.pi, TGO)) # Signal base (until BREAK_TIME)\n",
    "        time_series = np.ones((SGO,1))*signal[None] # Same signal for all nodes\n",
    "    else:\n",
    "        time_series = []\n",
    "        for i in groups:\n",
    "            t0 = 2*np.pi*i/len(np.unique(groups))\n",
    "            t0 = np.pi*30.0/180.0 * i\n",
    "            time_series += [np.sin(np.linspace(0,(TGO//BT)*periods*np.pi, TGO) + t0)]\n",
    "        time_series = np.stack(time_series, axis = 0)\n",
    "            \n",
    "    time_series += nl * np.random.randn(*time_series.shape) # Add noise\n",
    "    \n",
    "    # Add Brownian Motion with t = BT start point\n",
    "    for dv in drift_vertex:\n",
    "        brownian(time_series[dv,BT - 1], TGO - BT, dT, delta, out = time_series[dv,BT:])\n",
    "    return time_series"
   ]
  },
  {
   "cell_type": "code",
   "execution_count": null,
   "metadata": {
    "id": "w810l_Z4TgNl"
   },
   "outputs": [],
   "source": [
    "# Signal definition\n",
    "groups = np.array([0]*21 + [1]*22)\n",
    "#groups = np.array([0]*5 + [1]*31 + [2]*7)\n",
    "#groups = Index_cluster\n",
    "dv = 13\n",
    "\n",
    "time_series = sin_signal(SGO = SPACE_GRAPH_ORDER, TGO = TIME_GRAPH_ORDER, groups = groups, nl = NOISE_LEVEL)\n",
    "brownian(time_series[dv,BREAK_TIME - 1], TIME_GRAPH_ORDER - BREAK_TIME, dT, STD, out = time_series[dv,BREAK_TIME:])\n",
    "\n",
    "# time_series = drift_signal(dT = dT, nl = LEVEL_NOISE, BT = BREAK_TIME, \n",
    "#                            delta = STD, groups = groups, drift_vertex = [2])\n",
    "\n",
    "t = np.linspace(0, TIME_GRAPH_ORDER*dT, TIME_GRAPH_ORDER)\n",
    "t = np.ones((SPACE_GRAPH_ORDER,1))*t[None]\n",
    "#plot_curves(t, time_series, xlabel = \"time\", ylabel = \"Vertex-magnitud\")"
   ]
  },
  {
   "cell_type": "code",
   "execution_count": null,
   "metadata": {
    "id": "SKZ_Kydpw364"
   },
   "outputs": [],
   "source": [
    "\n",
    "# Create traces\n",
    "fig = go.Figure()\n",
    "for i in range(len(time_series)):\n",
    "  fig.add_trace(go.Scatter(x=t[i], y=time_series[i],\n",
    "                    mode='lines',\n",
    "                    name='Node'+str(i)))\n",
    "\n",
    "fig.update_layout(\n",
    "    title=\"Experimental signals\",\n",
    "    xaxis_title=\"Time\",\n",
    "    yaxis_title=\"Signal value\")\n",
    "\n",
    "fig.show()"
   ]
  },
  {
   "cell_type": "markdown",
   "metadata": {
    "id": "z-EWeNi_TgNm"
   },
   "source": [
    "The next graph shows the signal inside the space-time graph in a given time. For example, at time instant 3, it is observed that the network is divided into two sections because the signal strength is inverse for the groups created, that is, one group of nodes has a high value while the other has a low."
   ]
  },
  {
   "cell_type": "markdown",
   "metadata": {
    "id": "Dmz1Ip9RtDMV"
   },
   "source": [
    "### **Space and time analysis**"
   ]
  },
  {
   "cell_type": "code",
   "execution_count": null,
   "metadata": {
    "id": "TC7HN0OEr9S9"
   },
   "outputs": [],
   "source": [
    "#kernel_anima(graph, (15,10), windows_kernels = [1, 15])"
   ]
  },
  {
   "cell_type": "code",
   "execution_count": null,
   "metadata": {
    "id": "v9-oSqgSQlvJ"
   },
   "outputs": [],
   "source": [
    "# Space-time graph definition\n",
    "#groups = np.array([0]*5 + [1]*31 + [2]*7)\n",
    "#groups = Index_cluster\n",
    "space_time_graph = [graph, create_path_graph(TIME_GRAPH_ORDER)]\n",
    "\n",
    "plot_graph(space_time_graph[0],groups)\n",
    "plot_graph(space_time_graph[1])"
   ]
  },
  {
   "cell_type": "code",
   "execution_count": null,
   "metadata": {
    "id": "ifoBfo8pTgNn"
   },
   "outputs": [],
   "source": [
    "signal_graph_anima(space_time_graph, time_series)"
   ]
  },
  {
   "cell_type": "markdown",
   "metadata": {
    "id": "zqpcrY9mtNry"
   },
   "source": [
    "#### **Vertex signal in time**\n",
    "This section shows the evolution of the signal in time by vertex"
   ]
  },
  {
   "cell_type": "code",
   "execution_count": null,
   "metadata": {},
   "outputs": [],
   "source": [
    "0,  1,  4,  5,  6,  8, 11, 12, 13,16"
   ]
  },
  {
   "cell_type": "code",
   "execution_count": null,
   "metadata": {
    "id": "ll4uXHfvraVo"
   },
   "outputs": [],
   "source": [
    "gft_signal_anima(space_time_graph[1], time_series, is_graph_space = True)"
   ]
  },
  {
   "cell_type": "markdown",
   "metadata": {
    "id": "BaT_5RlxtcNa"
   },
   "source": [
    "#### **Time evolution**\n",
    "\n",
    "This section shows the evolution of the signal in time for all vertex"
   ]
  },
  {
   "cell_type": "code",
   "execution_count": null,
   "metadata": {
    "id": "V9u81ax2sWOh"
   },
   "outputs": [],
   "source": [
    "gft_signal_anima(space_time_graph[0], time_series, is_graph_space = False)"
   ]
  },
  {
   "cell_type": "markdown",
   "metadata": {
    "id": "O_r2dH8VtmiQ"
   },
   "source": [
    "#### **Joint Evolution**\n",
    "\n",
    "The following graph shows the transformation of fourier in time in space. From the first graph it is possible to extract *the vertexes that have similar properties given an instant of time*, those that present similar variations in the signal. From the second it is possible to evaluate how the signal varies in time for a given vertex. *It is possible to determine at what moment the signal presents less variation (tendency to be constant)*."
   ]
  },
  {
   "cell_type": "code",
   "execution_count": null,
   "metadata": {
    "id": "l_KG-4SeuNWK"
   },
   "outputs": [],
   "source": [
    "spectogram_anima(space_time_graph[0], time_series, SKS = SPACE_KERNEL_SCALE, \n",
    "                 is_graph_space = True, limits = [0.0, 0.5], lamdba_lim = None)"
   ]
  },
  {
   "cell_type": "markdown",
   "metadata": {
    "id": "rkDucfGeKjSM"
   },
   "source": [
    "In the following graph, it is possible to determine the behavior of the signal for a given vertex in an instant of time, in the same graph. How constant is the signal of a vertex in a given time lapse"
   ]
  },
  {
   "cell_type": "code",
   "execution_count": null,
   "metadata": {},
   "outputs": [],
   "source": [
    "space_time_graph[1].e"
   ]
  },
  {
   "cell_type": "code",
   "execution_count": null,
   "metadata": {
    "id": "z1Q5Hh-ywi7W",
    "scrolled": true
   },
   "outputs": [],
   "source": [
    "spectogram_anima(space_time_graph[1], time_series, SKS = TIME_KERNEL_SCALE, \n",
    "                 is_graph_space = False, limits = None, lamdba_lim = None)"
   ]
  },
  {
   "cell_type": "code",
   "execution_count": null,
   "metadata": {
    "id": "DBLD8NxYN4wx"
   },
   "outputs": [],
   "source": [
    "kernels, joint_spectogram = JFT_anima(space_time_graph, time_series, [1, 200],\n",
    "                                     lspace_lim = None, ltime_lim = None)"
   ]
  },
  {
   "cell_type": "code",
   "execution_count": null,
   "metadata": {
    "id": "zmAtTRg0WDWp"
   },
   "outputs": [],
   "source": [
    "wspectogram_A = joint_spectogram[:,:,1,11:31]\n",
    "wspectogram_B = joint_spectogram[:,:,3,11:31]\n",
    "norm= np.linalg.norm(wspectogram_A - wspectogram_B)\n",
    "norm"
   ]
  },
  {
   "cell_type": "code",
   "execution_count": null,
   "metadata": {
    "id": "t8IkAXU0W7Xk"
   },
   "outputs": [],
   "source": [
    "A = np.array([1,2,3,4,5,6])\n",
    "A = A/np.sum(A)\n",
    "print(A)\n",
    "B = np.array([6,5,4,3,2,1])\n",
    "B = B/np.sum(B)\n",
    "print(B)\n",
    "norm = np.linalg.norm(A - B)\n",
    "norm"
   ]
  },
  {
   "cell_type": "code",
   "execution_count": null,
   "metadata": {
    "id": "1AHM5_82gABf"
   },
   "outputs": [],
   "source": [
    "joint_spectogram_aux = joint_spectogram[:,:,:,15:25]"
   ]
  },
  {
   "cell_type": "code",
   "execution_count": null,
   "metadata": {
    "id": "Ftb01B4Cf0mc"
   },
   "outputs": [],
   "source": [
    "# filename = \"./dist_drift_prueba_low_fase.csv\"\n",
    "filename = \"./dist_drift_prueba_nuevoGraph_1_200_nuevaRed_K10.csv\" \n",
    "#dist_matrix = plot_dist_matrix(joint_spectogram, sw=0,tw=3, filename = filename, overwrite = False, vlist = list(range(5)) + list(range(7,36)) + list(range(38,43))) #xlim = [100,250], ylim = [100,250]\n",
    "dist_matrix = plot_dist_matrix(joint_spectogram, sw=0,tw=3, filename = filename, overwrite = False, vlist = [0,  1,  4,  5,  6,  8, 11, 12, 13, 16]) #xlim = [100,250], ylim = [100,250]"
   ]
  },
  {
   "cell_type": "code",
   "execution_count": null,
   "metadata": {
    "id": "3hWVrcGYW7Xl"
   },
   "outputs": [],
   "source": [
    "# dist_matrix = plot_dist_matrix(joint_spectogram, sw = 0, tw = 3, filename = filename, vlist = [0,1,2,3,4]) #xlim = [100,250], ylim = [100,250]"
   ]
  },
  {
   "cell_type": "markdown",
   "metadata": {
    "id": "zSfapoVZqwlA"
   },
   "source": [
    "### Clustering"
   ]
  },
  {
   "cell_type": "code",
   "execution_count": null,
   "metadata": {
    "id": "RS1gSoQWW7Xl"
   },
   "outputs": [],
   "source": [
    "joint_spectogram.shape"
   ]
  },
  {
   "cell_type": "code",
   "execution_count": null,
   "metadata": {},
   "outputs": [],
   "source": [
    "np.where(Index_cluster ==1)[0]"
   ]
  },
  {
   "cell_type": "code",
   "execution_count": null,
   "metadata": {
    "id": "ZS3pf-KGW7Xl"
   },
   "outputs": [],
   "source": [
    "groups = [[0,  1,  4,  5,  6,  8, 11, 12, 13,16],[19, 21, 22, 23, 24, 27, 28, 29, 30, 36, 37],[14, 15, 17, 18, 20, 25, 26, 31, 32, 33, 34, 35, 38]]\n",
    "\n",
    "# groups1 = list(range(0,21))\n",
    "# groups2 = list(range(21,43))\n",
    "# groups = [groups1,groups2]\n",
    "\n",
    "dist_matrix_groups = []\n",
    "for group in groups:\n",
    "    dist_matrix = dist_matrix_estimation(joint_spectogram, sw = 0, tw = 3, filename = filename, vlist = group)\n",
    "    # ind = np.tril_indices(dist_matrix.shape[0])\n",
    "    # aux_df = pd.DataFrame(dist_matrix.values, columns = ['dist'])\n",
    "    # aux_df.index = dist_matrix.index + '-' + dist_matrix.columns\n",
    "    dist_matrix_groups.append(dist_matrix)"
   ]
  },
  {
   "cell_type": "code",
   "execution_count": null,
   "metadata": {
    "id": "ZCD0N-rp-aze",
    "scrolled": true
   },
   "outputs": [],
   "source": [
    "dist_matrix_groups[0]"
   ]
  },
  {
   "cell_type": "code",
   "execution_count": null,
   "metadata": {
    "id": "LR6-Z-yVW7Xl"
   },
   "outputs": [],
   "source": [
    "# dist_matrix_groups\n",
    "# for dist in dist_matrix_groups:\n",
    "#     dist.hist(bins = 100)"
   ]
  },
  {
   "cell_type": "code",
   "execution_count": null,
   "metadata": {
    "id": "rlmBC_JAW7Xm"
   },
   "outputs": [],
   "source": [
    "# from sklearn.cluster import DBSCAN\n",
    "# import seaborn as sns\n",
    "# import plotly.express as px\n",
    "\n",
    "# X = dist_matrix_groups[0]\n",
    "# clustering = DBSCAN(eps = 1, min_samples = 4).fit(X)\n",
    "\n",
    "# # Graph\n",
    "# X['labels'] = clustering.labels_\n",
    "# # fig = px.line(X, x = \"dist\", y = 'labels', color = 'labels')\n",
    "# # fig.show()"
   ]
  },
  {
   "cell_type": "code",
   "execution_count": null,
   "metadata": {
    "id": "WMcDdP10DukI"
   },
   "outputs": [],
   "source": [
    "# np.sort(X['labels'].unique())"
   ]
  },
  {
   "cell_type": "code",
   "execution_count": null,
   "metadata": {
    "id": "5gzZsviPDhCQ"
   },
   "outputs": [],
   "source": [
    "# drift = X[(X['labels'] == 3)].index.unique().to_list()\n",
    "# drift"
   ]
  },
  {
   "cell_type": "code",
   "execution_count": null,
   "metadata": {
    "id": "STy5JMcUW7Xm"
   },
   "outputs": [],
   "source": [
    "# X[X['labels'] == 10].index"
   ]
  },
  {
   "cell_type": "code",
   "execution_count": null,
   "metadata": {
    "id": "b4edowPJBYdH",
    "scrolled": false
   },
   "outputs": [],
   "source": [
    "from sklearn.mixture import GaussianMixture\n",
    "\n",
    "X = dist_matrix_groups[0].copy()\n",
    "lowest_bic = [np.infty, None]\n",
    "bic = []\n",
    "n_components_range = range(2, 11)\n",
    "cv_types = ['spherical', 'tied', 'diag', 'full']\n",
    "for cv_type in cv_types:\n",
    "    for n_components in n_components_range:\n",
    "        print(\"[INFO] CV_type = {} with n_component = {}\".format(cv_type, n_components))\n",
    "        # Fit a Gaussian mixture with EM\n",
    "        gmm = GaussianMixture(n_components = n_components, covariance_type = cv_type)\n",
    "        gmm.fit(X)\n",
    "        bic.append(gmm.bic(X))\n",
    "        if bic[-1] < lowest_bic[0]:\n",
    "            lowest_bic = [bic[-1], cv_type]\n",
    "            best_gmm = gmm\n",
    "# clf = GaussianMixture(n_components = 10, covariance_type = 'full')\n",
    "# clf.fit(X)\n",
    "\n",
    "# Graph\n",
    "X['labels'] = best_gmm.predict(X)\n",
    "# fig = px.line(X, x = \"dist\", y = 'labels', color = 'labels')\n",
    "# fig.show()"
   ]
  },
  {
   "cell_type": "code",
   "execution_count": null,
   "metadata": {
    "id": "B7A4RQ6pN83y"
   },
   "outputs": [],
   "source": [
    "mean = best_gmm.means_\n",
    "mean.mean(axis=1)"
   ]
  },
  {
   "cell_type": "code",
   "execution_count": null,
   "metadata": {
    "id": "kMfFYU0eOwjG"
   },
   "outputs": [],
   "source": [
    "covariances = best_gmm.covariances_\n",
    "covariances"
   ]
  },
  {
   "cell_type": "code",
   "execution_count": null,
   "metadata": {
    "id": "JVPrsS11W7Xm"
   },
   "outputs": [],
   "source": [
    "print(lowest_bic)\n",
    "plt.plot(bic)"
   ]
  },
  {
   "cell_type": "code",
   "execution_count": null,
   "metadata": {},
   "outputs": [],
   "source": [
    "X"
   ]
  },
  {
   "cell_type": "code",
   "execution_count": null,
   "metadata": {
    "id": "prdannHnCekp"
   },
   "outputs": [],
   "source": [
    "np.sort(X['labels'].unique())"
   ]
  },
  {
   "cell_type": "code",
   "execution_count": null,
   "metadata": {
    "id": "Wz5MjBcVW7Xm"
   },
   "outputs": [],
   "source": [
    "import re\n",
    "print(lowest_bic)\n",
    "drift = X[(X['labels'] == 0)].index.unique().to_list()\n",
    "drift\n",
    "\n",
    "# vlist = re.compile(r\"\\(([0-9]+),\").findall(\"\\n\".join(drift))\n",
    "# vlist"
   ]
  },
  {
   "cell_type": "markdown",
   "metadata": {
    "id": "HkyZylLtW7Xm"
   },
   "source": [
    "### Full cluster"
   ]
  },
  {
   "cell_type": "code",
   "execution_count": null,
   "metadata": {
    "id": "xxf2b9o-W7Xm"
   },
   "outputs": [],
   "source": [
    "# full_dist_matrix = dist_matrix_estimation(joint_spectogram, sw = 0, tw = 3, filename = filename)\n",
    "# ind = np.tril_indices(full_dist_matrix.shape[0])\n",
    "# drift_df = pd.DataFrame(full_dist_matrix.values[ind], columns = ['dist'])\n",
    "# drift_df.index = full_dist_matrix.index[ind[0]] #+ '-' + dist_matrix.columns[ind[1]]\n",
    "# drift_df.hist(bins = 100)"
   ]
  },
  {
   "cell_type": "code",
   "execution_count": null,
   "metadata": {
    "id": "T5XB3pLQW7Xm"
   },
   "outputs": [],
   "source": [
    "# from sklearn.mixture import GaussianMixture\n",
    "\n",
    "# X = drift_df.copy()\n",
    "# lowest_bic = [np.infty, None]\n",
    "# bic = []\n",
    "# n_components_range = range(1, 11)\n",
    "# cv_types = ['spherical', 'tied', 'diag', 'full']\n",
    "# for cv_type in cv_types:\n",
    "#     for n_components in n_components_range:\n",
    "#         print(\"[INFO] CV_type = {} with n_component = {}\".format(cv_type, n_components))\n",
    "#         # Fit a Gaussian mixture with EM\n",
    "#         gmm = GaussianMixture(n_components = n_components, covariance_type = cv_type)\n",
    "#         gmm.fit(X)\n",
    "#         bic.append(gmm.bic(X))\n",
    "#         if bic[-1] < lowest_bic[0]:\n",
    "#             lowest_bic = [bic[-1], cv_type]\n",
    "#             best_gmm = gmm\n",
    "# # clf = GaussianMixture(n_components = 10, covariance_type = 'full')\n",
    "# # clf.fit(X)\n",
    "\n",
    "# # Graph\n",
    "# X['labels'] = best_gmm.predict(X)\n",
    "# fig = px.line(X, x = \"dist\", y = 'labels', color = 'labels')\n",
    "# fig.show()"
   ]
  },
  {
   "cell_type": "code",
   "execution_count": null,
   "metadata": {
    "id": "lp8-JZISW7Xn"
   },
   "outputs": [],
   "source": [
    "# print(lowest_bic)\n",
    "# drift = X[(X['labels'] == 4)].index.unique().to_list()\n",
    "# drift"
   ]
  },
  {
   "cell_type": "markdown",
   "metadata": {
    "id": "SHUePVT20CNs"
   },
   "source": [
    "## ***Anexos: GitHub-Colab connection***\n",
    "Here, some commands to upload/save the github respository"
   ]
  },
  {
   "cell_type": "code",
   "execution_count": null,
   "metadata": {
    "id": "Teasr5DEz_xw"
   },
   "outputs": [],
   "source": [
    "''' Function definitions'''\n",
    "# Git pull\n",
    "def git_pull(repo_pwd, show_current_branch = False, make_commit = False): # Only for colab space work\n",
    "    global user_git, email_git\n",
    "    import sys\n",
    "    IN_COLAB = 'google.colab' in sys.modules\n",
    "    if IN_COLAB:\n",
    "        from google.colab import drive\n",
    "        drive.mount('/content/gdrive')\n",
    "\n",
    "        %cd \"$repo_pwd\"\n",
    "        # !git config --list\n",
    "        if show_current_branch: \n",
    "            !git branch \n",
    "        if make_commit:\n",
    "            if \"user_git\" not in globals(): user_git = input(\"User github?: \")\n",
    "            if \"email_git\" not in globals(): email_git = input(\"Email github?: \") \n",
    "            !git config --global user.email $email_git\n",
    "            !git config --global user.name $user_git\n",
    "            !git commit -am \"Updating in colab\"\n",
    "        !git pull\n",
    "        !git status\n",
    "    else:\n",
    "        print(\"[INFO] You are not in collaboration, nothing has been done.\")\n",
    "\n",
    "# Git push\n",
    "def git_push(repo_pwd): # Only for colab space work\n",
    "    global user_git, email_git\n",
    "    import sys\n",
    "    IN_COLAB = 'google.colab' in sys.modules\n",
    "    if IN_COLAB:\n",
    "        from google.colab import drive\n",
    "        import getpass\n",
    "        drive.mount('/content/gdrive')\n",
    "\n",
    "        %cd \"$repo_pwd\"\n",
    "        if \"user_git\" not in globals(): user_git = input(\"User github?: \")\n",
    "        if \"email_git\" not in globals(): email_git = input(\"Email github?: \")\n",
    "\n",
    "        # Password login\n",
    "        try: \n",
    "            pwd_git = getpass.getpass(prompt='{} github password: '.format(user_git)) \n",
    "        except Exception as error: \n",
    "            print('ERROR', error) \n",
    "\n",
    "        # Upload from every where\n",
    "        origin_git = !git config --get remote.origin.url\n",
    "        origin_git = origin_git[0].replace(\"https://\",\"https://{}:{}@\".format(user_git,pwd_git))\n",
    "\n",
    "        !git config --global user.email \"$email_git\"\n",
    "        !git config --global user.name \"$user_git\"\n",
    "        !git status\n",
    "\n",
    "        x = \" \"\n",
    "        while x.lower() != \"y\" and x.lower() != \"n\": x = input(\"Continue?...[y/n]: \")\n",
    "\n",
    "        if x.lower() == \"y\":\n",
    "            com_message = input(\"Enter the commit message: \")\n",
    "            !git add .\n",
    "            !git commit -am \"$com_message\"\n",
    "            !git push \"$origin\"\n",
    "            !git status\n",
    "    else:\n",
    "        print(\"[INFO] You are not in collaboration, nothing has been done.\")"
   ]
  },
  {
   "cell_type": "markdown",
   "metadata": {
    "id": "zNJ68hztrBN_"
   },
   "source": [
    "In order to execute the functions, please unlock the respective function"
   ]
  },
  {
   "cell_type": "code",
   "execution_count": null,
   "metadata": {
    "id": "tNPGLIe1q37C"
   },
   "outputs": [],
   "source": [
    "# git_pull(repo_pwd, show_current_branch = False, make_commit = True)\n",
    "# git_push(repo_pwd)"
   ]
  }
 ],
 "metadata": {
  "colab": {
   "collapsed_sections": [],
   "name": "GFT_sensors.ipynb",
   "toc_visible": true,
   "version": ""
  },
  "kernelspec": {
   "display_name": "Python 3",
   "language": "python",
   "name": "python3"
  },
  "language_info": {
   "codemirror_mode": {
    "name": "ipython",
    "version": 3
   },
   "file_extension": ".py",
   "mimetype": "text/x-python",
   "name": "python",
   "nbconvert_exporter": "python",
   "pygments_lexer": "ipython3",
   "version": "3.8.5"
  },
  "toc": {
   "base_numbering": "1",
   "nav_menu": {},
   "number_sections": true,
   "sideBar": true,
   "skip_h1_title": true,
   "title_cell": "Table of Contents",
   "title_sidebar": "Contents",
   "toc_cell": false,
   "toc_position": {
    "height": "236px",
    "left": "99px",
    "top": "180px",
    "width": "212px"
   },
   "toc_section_display": true,
   "toc_window_display": true
  },
  "widgets": {
   "application/vnd.jupyter.widget-state+json": {
    "014a05a6de674788810aa9ca56aee5d3": {
     "model_module": "@jupyter-widgets/base",
     "model_name": "LayoutModel",
     "state": {
      "_model_module": "@jupyter-widgets/base",
      "_model_module_version": "1.2.0",
      "_model_name": "LayoutModel",
      "_view_count": null,
      "_view_module": "@jupyter-widgets/base",
      "_view_module_version": "1.2.0",
      "_view_name": "LayoutView",
      "align_content": null,
      "align_items": null,
      "align_self": null,
      "border": null,
      "bottom": null,
      "display": null,
      "flex": null,
      "flex_flow": null,
      "grid_area": null,
      "grid_auto_columns": null,
      "grid_auto_flow": null,
      "grid_auto_rows": null,
      "grid_column": null,
      "grid_gap": null,
      "grid_row": null,
      "grid_template_areas": null,
      "grid_template_columns": null,
      "grid_template_rows": null,
      "height": null,
      "justify_content": null,
      "justify_items": null,
      "left": null,
      "margin": null,
      "max_height": null,
      "max_width": null,
      "min_height": null,
      "min_width": null,
      "object_fit": null,
      "object_position": null,
      "order": null,
      "overflow": null,
      "overflow_x": null,
      "overflow_y": null,
      "padding": null,
      "right": null,
      "top": null,
      "visibility": null,
      "width": null
     }
    },
    "0d7eb455bbc0415d942b1f6c13b4cbb6": {
     "model_module": "@jupyter-widgets/controls",
     "model_name": "DescriptionStyleModel",
     "state": {
      "_model_module": "@jupyter-widgets/controls",
      "_model_module_version": "1.5.0",
      "_model_name": "DescriptionStyleModel",
      "_view_count": null,
      "_view_module": "@jupyter-widgets/base",
      "_view_module_version": "1.2.0",
      "_view_name": "StyleView",
      "description_width": ""
     }
    },
    "144f168f98564de6b5c875f3455edc6d": {
     "model_module": "@jupyter-widgets/controls",
     "model_name": "DropdownModel",
     "state": {
      "_dom_classes": [],
      "_model_module": "@jupyter-widgets/controls",
      "_model_module_version": "1.5.0",
      "_model_name": "DropdownModel",
      "_options_labels": [
       "0",
       "1",
       "2",
       "3",
       "4",
       "5",
       "6",
       "7",
       "8",
       "9",
       "10",
       "11",
       "12",
       "13",
       "14",
       "15",
       "16",
       "17",
       "18",
       "19",
       "20",
       "21",
       "22",
       "23",
       "24",
       "25",
       "26",
       "27",
       "28",
       "29"
      ],
      "_view_count": null,
      "_view_module": "@jupyter-widgets/controls",
      "_view_module_version": "1.5.0",
      "_view_name": "DropdownView",
      "description": "Instant",
      "description_tooltip": null,
      "disabled": false,
      "index": 0,
      "layout": "IPY_MODEL_a2fbb550dcd748d1b16023e382d53654",
      "style": "IPY_MODEL_1e269c4717be4a0f98afa25d9020fac5"
     }
    },
    "16591d9fc7e3456a842b44a32bf1c27e": {
     "model_module": "@jupyter-widgets/controls",
     "model_name": "DropdownModel",
     "state": {
      "_dom_classes": [],
      "_model_module": "@jupyter-widgets/controls",
      "_model_module_version": "1.5.0",
      "_model_name": "DropdownModel",
      "_options_labels": [
       "0",
       "1",
       "2",
       "3",
       "4",
       "5",
       "6",
       "7",
       "8",
       "9",
       "10",
       "11",
       "12",
       "13",
       "14",
       "15",
       "16",
       "17",
       "18",
       "19",
       "20",
       "21",
       "22",
       "23",
       "24",
       "25",
       "26",
       "27",
       "28",
       "29",
       "30",
       "31",
       "32",
       "33",
       "34",
       "35",
       "36",
       "37",
       "38",
       "39",
       "40",
       "41",
       "42",
       "43",
       "44",
       "45",
       "46",
       "47",
       "48",
       "49",
       "50",
       "51",
       "52",
       "53",
       "54",
       "55",
       "56",
       "57",
       "58",
       "59",
       "60",
       "61",
       "62",
       "63",
       "64",
       "65",
       "66",
       "67",
       "68",
       "69",
       "70",
       "71",
       "72",
       "73",
       "74",
       "75",
       "76",
       "77",
       "78",
       "79",
       "80",
       "81",
       "82",
       "83",
       "84",
       "85",
       "86",
       "87",
       "88",
       "89",
       "90",
       "91",
       "92",
       "93",
       "94",
       "95",
       "96",
       "97",
       "98",
       "99"
      ],
      "_view_count": null,
      "_view_module": "@jupyter-widgets/controls",
      "_view_module_version": "1.5.0",
      "_view_name": "DropdownView",
      "description": "Vertex",
      "description_tooltip": null,
      "disabled": false,
      "index": 0,
      "layout": "IPY_MODEL_014a05a6de674788810aa9ca56aee5d3",
      "style": "IPY_MODEL_0d7eb455bbc0415d942b1f6c13b4cbb6"
     }
    },
    "1e269c4717be4a0f98afa25d9020fac5": {
     "model_module": "@jupyter-widgets/controls",
     "model_name": "DescriptionStyleModel",
     "state": {
      "_model_module": "@jupyter-widgets/controls",
      "_model_module_version": "1.5.0",
      "_model_name": "DescriptionStyleModel",
      "_view_count": null,
      "_view_module": "@jupyter-widgets/base",
      "_view_module_version": "1.2.0",
      "_view_name": "StyleView",
      "description_width": ""
     }
    },
    "2f02b39015614ff0b75d160a7348f997": {
     "model_module": "@jupyter-widgets/base",
     "model_name": "LayoutModel",
     "state": {
      "_model_module": "@jupyter-widgets/base",
      "_model_module_version": "1.2.0",
      "_model_name": "LayoutModel",
      "_view_count": null,
      "_view_module": "@jupyter-widgets/base",
      "_view_module_version": "1.2.0",
      "_view_name": "LayoutView",
      "align_content": null,
      "align_items": null,
      "align_self": null,
      "border": null,
      "bottom": null,
      "display": null,
      "flex": null,
      "flex_flow": null,
      "grid_area": null,
      "grid_auto_columns": null,
      "grid_auto_flow": null,
      "grid_auto_rows": null,
      "grid_column": null,
      "grid_gap": null,
      "grid_row": null,
      "grid_template_areas": null,
      "grid_template_columns": null,
      "grid_template_rows": null,
      "height": null,
      "justify_content": null,
      "justify_items": null,
      "left": null,
      "margin": null,
      "max_height": null,
      "max_width": null,
      "min_height": null,
      "min_width": null,
      "object_fit": null,
      "object_position": null,
      "order": null,
      "overflow": null,
      "overflow_x": null,
      "overflow_y": null,
      "padding": null,
      "right": null,
      "top": null,
      "visibility": null,
      "width": null
     }
    },
    "6f2eaeebe4544f109a8d3c707d535bd3": {
     "model_module": "@jupyter-widgets/controls",
     "model_name": "VBoxModel",
     "state": {
      "_dom_classes": [
       "widget-interact"
      ],
      "_model_module": "@jupyter-widgets/controls",
      "_model_module_version": "1.5.0",
      "_model_name": "VBoxModel",
      "_view_count": null,
      "_view_module": "@jupyter-widgets/controls",
      "_view_module_version": "1.5.0",
      "_view_name": "VBoxView",
      "box_style": "",
      "children": [
       "IPY_MODEL_144f168f98564de6b5c875f3455edc6d",
       "IPY_MODEL_cdf51fb576d743f88315679675f1f172"
      ],
      "layout": "IPY_MODEL_92efdceb431f47149ff730bf62a75424"
     }
    },
    "726a1970b60c4dcab265c213e2743fb2": {
     "model_module": "@jupyter-widgets/base",
     "model_name": "LayoutModel",
     "state": {
      "_model_module": "@jupyter-widgets/base",
      "_model_module_version": "1.2.0",
      "_model_name": "LayoutModel",
      "_view_count": null,
      "_view_module": "@jupyter-widgets/base",
      "_view_module_version": "1.2.0",
      "_view_name": "LayoutView",
      "align_content": null,
      "align_items": null,
      "align_self": null,
      "border": null,
      "bottom": null,
      "display": null,
      "flex": null,
      "flex_flow": null,
      "grid_area": null,
      "grid_auto_columns": null,
      "grid_auto_flow": null,
      "grid_auto_rows": null,
      "grid_column": null,
      "grid_gap": null,
      "grid_row": null,
      "grid_template_areas": null,
      "grid_template_columns": null,
      "grid_template_rows": null,
      "height": null,
      "justify_content": null,
      "justify_items": null,
      "left": null,
      "margin": null,
      "max_height": null,
      "max_width": null,
      "min_height": null,
      "min_width": null,
      "object_fit": null,
      "object_position": null,
      "order": null,
      "overflow": null,
      "overflow_x": null,
      "overflow_y": null,
      "padding": null,
      "right": null,
      "top": null,
      "visibility": null,
      "width": null
     }
    },
    "8f287259e98d4f649adeed15a1a87bc3": {
     "model_module": "@jupyter-widgets/base",
     "model_name": "LayoutModel",
     "state": {
      "_model_module": "@jupyter-widgets/base",
      "_model_module_version": "1.2.0",
      "_model_name": "LayoutModel",
      "_view_count": null,
      "_view_module": "@jupyter-widgets/base",
      "_view_module_version": "1.2.0",
      "_view_name": "LayoutView",
      "align_content": null,
      "align_items": null,
      "align_self": null,
      "border": null,
      "bottom": null,
      "display": null,
      "flex": null,
      "flex_flow": null,
      "grid_area": null,
      "grid_auto_columns": null,
      "grid_auto_flow": null,
      "grid_auto_rows": null,
      "grid_column": null,
      "grid_gap": null,
      "grid_row": null,
      "grid_template_areas": null,
      "grid_template_columns": null,
      "grid_template_rows": null,
      "height": null,
      "justify_content": null,
      "justify_items": null,
      "left": null,
      "margin": null,
      "max_height": null,
      "max_width": null,
      "min_height": null,
      "min_width": null,
      "object_fit": null,
      "object_position": null,
      "order": null,
      "overflow": null,
      "overflow_x": null,
      "overflow_y": null,
      "padding": null,
      "right": null,
      "top": null,
      "visibility": null,
      "width": null
     }
    },
    "92efdceb431f47149ff730bf62a75424": {
     "model_module": "@jupyter-widgets/base",
     "model_name": "LayoutModel",
     "state": {
      "_model_module": "@jupyter-widgets/base",
      "_model_module_version": "1.2.0",
      "_model_name": "LayoutModel",
      "_view_count": null,
      "_view_module": "@jupyter-widgets/base",
      "_view_module_version": "1.2.0",
      "_view_name": "LayoutView",
      "align_content": null,
      "align_items": null,
      "align_self": null,
      "border": null,
      "bottom": null,
      "display": null,
      "flex": null,
      "flex_flow": null,
      "grid_area": null,
      "grid_auto_columns": null,
      "grid_auto_flow": null,
      "grid_auto_rows": null,
      "grid_column": null,
      "grid_gap": null,
      "grid_row": null,
      "grid_template_areas": null,
      "grid_template_columns": null,
      "grid_template_rows": null,
      "height": null,
      "justify_content": null,
      "justify_items": null,
      "left": null,
      "margin": null,
      "max_height": null,
      "max_width": null,
      "min_height": null,
      "min_width": null,
      "object_fit": null,
      "object_position": null,
      "order": null,
      "overflow": null,
      "overflow_x": null,
      "overflow_y": null,
      "padding": null,
      "right": null,
      "top": null,
      "visibility": null,
      "width": null
     }
    },
    "a2fbb550dcd748d1b16023e382d53654": {
     "model_module": "@jupyter-widgets/base",
     "model_name": "LayoutModel",
     "state": {
      "_model_module": "@jupyter-widgets/base",
      "_model_module_version": "1.2.0",
      "_model_name": "LayoutModel",
      "_view_count": null,
      "_view_module": "@jupyter-widgets/base",
      "_view_module_version": "1.2.0",
      "_view_name": "LayoutView",
      "align_content": null,
      "align_items": null,
      "align_self": null,
      "border": null,
      "bottom": null,
      "display": null,
      "flex": null,
      "flex_flow": null,
      "grid_area": null,
      "grid_auto_columns": null,
      "grid_auto_flow": null,
      "grid_auto_rows": null,
      "grid_column": null,
      "grid_gap": null,
      "grid_row": null,
      "grid_template_areas": null,
      "grid_template_columns": null,
      "grid_template_rows": null,
      "height": null,
      "justify_content": null,
      "justify_items": null,
      "left": null,
      "margin": null,
      "max_height": null,
      "max_width": null,
      "min_height": null,
      "min_width": null,
      "object_fit": null,
      "object_position": null,
      "order": null,
      "overflow": null,
      "overflow_x": null,
      "overflow_y": null,
      "padding": null,
      "right": null,
      "top": null,
      "visibility": null,
      "width": null
     }
    },
    "cdf51fb576d743f88315679675f1f172": {
     "model_module": "@jupyter-widgets/output",
     "model_name": "OutputModel",
     "state": {
      "_dom_classes": [],
      "_model_module": "@jupyter-widgets/output",
      "_model_module_version": "1.0.0",
      "_model_name": "OutputModel",
      "_view_count": null,
      "_view_module": "@jupyter-widgets/output",
      "_view_module_version": "1.0.0",
      "_view_name": "OutputView",
      "layout": "IPY_MODEL_8f287259e98d4f649adeed15a1a87bc3",
      "msg_id": "b310362bb76e474cf40afd6ce47472ca",
      "outputs": [
       {
        "image/png": "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\n",
        "metadata": {
         "tags": []
        },
        "output_type": "display_data",
        "text/plain": "<Figure size 1440x720 with 1 Axes>"
       }
      ]
     }
    },
    "d83c249b65cb47f584e2596220c302be": {
     "model_module": "@jupyter-widgets/controls",
     "model_name": "VBoxModel",
     "state": {
      "_dom_classes": [
       "widget-interact"
      ],
      "_model_module": "@jupyter-widgets/controls",
      "_model_module_version": "1.5.0",
      "_model_name": "VBoxModel",
      "_view_count": null,
      "_view_module": "@jupyter-widgets/controls",
      "_view_module_version": "1.5.0",
      "_view_name": "VBoxView",
      "box_style": "",
      "children": [
       "IPY_MODEL_16591d9fc7e3456a842b44a32bf1c27e",
       "IPY_MODEL_dd072cad49d746ad977c22458b4185d0"
      ],
      "layout": "IPY_MODEL_2f02b39015614ff0b75d160a7348f997"
     }
    },
    "dd072cad49d746ad977c22458b4185d0": {
     "model_module": "@jupyter-widgets/output",
     "model_name": "OutputModel",
     "state": {
      "_dom_classes": [],
      "_model_module": "@jupyter-widgets/output",
      "_model_module_version": "1.0.0",
      "_model_name": "OutputModel",
      "_view_count": null,
      "_view_module": "@jupyter-widgets/output",
      "_view_module_version": "1.0.0",
      "_view_name": "OutputView",
      "layout": "IPY_MODEL_726a1970b60c4dcab265c213e2743fb2",
      "msg_id": "",
      "outputs": [
       {
        "image/png": "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\n",
        "metadata": {
         "tags": []
        },
        "output_type": "display_data",
        "text/plain": "<Figure size 1440x720 with 1 Axes>"
       },
       {
        "image/png": "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\n",
        "metadata": {
         "tags": []
        },
        "output_type": "display_data",
        "text/plain": "<Figure size 1440x720 with 1 Axes>"
       }
      ]
     }
    }
   }
  }
 },
 "nbformat": 4,
 "nbformat_minor": 1
}
