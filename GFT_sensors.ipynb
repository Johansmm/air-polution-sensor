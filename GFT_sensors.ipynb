{
  "nbformat": 4,
  "nbformat_minor": 0,
  "metadata": {
    "colab": {
      "name": "Code_description.ipynb",
      "provenance": [],
      "collapsed_sections": [
        "5urFRA1Fa0Pu",
        "na7N2x0UzM8S",
        "m4yGu6pHz3sQ",
        "SHUePVT20CNs"
      ]
    },
    "kernelspec": {
      "display_name": "Python 3",
      "language": "python",
      "name": "python3"
    },
    "language_info": {
      "codemirror_mode": {
        "name": "ipython",
        "version": 3
      },
      "file_extension": ".py",
      "mimetype": "text/x-python",
      "name": "python",
      "nbconvert_exporter": "python",
      "pygments_lexer": "ipython3",
      "version": "3.6.9"
    }
  },
  "cells": [
    {
      "cell_type": "markdown",
      "metadata": {
        "id": "M_YQLSc_IHJc"
      },
      "source": [
        " # Analyse spatio-temporelle de signaux pour détecter la dérive de capteurs mesurant la qualité de l'air\n",
        " \n",
        " Project summary (coming soon) ..."
      ]
    },
    {
      "cell_type": "markdown",
      "metadata": {
        "id": "ox-7Xry6Khia"
      },
      "source": [
        "## Introduction"
      ]
    },
    {
      "cell_type": "code",
      "metadata": {
        "id": "VUcPLCl2mTts",
        "outputId": "8ef45fdb-ac56-4604-8b0c-94cb62cdf885",
        "colab": {
          "base_uri": "https://localhost:8080/"
        }
      },
      "source": [
        "# Libraries\n",
        "# Basis libraries \n",
        "import sys, getpass, os\n",
        "import numpy as np\n",
        "import scipy.signal\n",
        "\n",
        "# Colab libraries\n",
        "IN_COLAB = 'google.colab' in sys.modules\n",
        "if IN_COLAB:\n",
        "    from google.colab import drive\n",
        "    from google.colab import output\n",
        "    drive.mount('/content/gdrive')\n",
        "    pwd = \"/content/gdrive/My Drive/Colab Notebooks/\"    \n",
        "else:\n",
        "    from IPython.display import ouput\n",
        "    pwd = \"./\"\n",
        "repo_pwd = pwd + \"air-polution-sensor/\""
      ],
      "execution_count": 14,
      "outputs": [
        {
          "output_type": "stream",
          "text": [
            "Drive already mounted at /content/gdrive; to attempt to forcibly remount, call drive.mount(\"/content/gdrive\", force_remount=True).\n"
          ],
          "name": "stdout"
        }
      ]
    },
    {
      "cell_type": "markdown",
      "metadata": {
        "id": "uTMEWxUCIHJj"
      },
      "source": [
        "## Download repository\n",
        "First, we will download the repository that contains the project [air-polution-sensor](https://github.com/Johansmm/air-polution-sensor.git). This process is optional, being necessary to activate the flag `download_repo` and enter the `user`, `email` and `password` of the repository (since the repository is initially private). Additionally you can enable the `download_db` option to download the database."
      ]
    },
    {
      "cell_type": "code",
      "metadata": {
        "id": "M_ArY6OPIHJk",
        "outputId": "280dd45b-379b-44fc-953f-5f3a0b04e45f",
        "colab": {
          "base_uri": "https://localhost:8080/"
        }
      },
      "source": [
        "%cd $pwd\n",
        "download_repo, download_db = False, False\n",
        "if not os.path.isdir(\"air-polution-sensor\") and download_repo:\n",
        "    # Repository clone\n",
        "    # del user_git, pwd_git, email_git\n",
        "    if \"user_git\" not in globals(): user_git = input(\"User github?: \")\n",
        "    try: \n",
        "        pwd_git = getpass.getpass(prompt='{} github password: '.format(user_git)) \n",
        "    except Exception as error: \n",
        "        print('ERROR', error) \n",
        "    \n",
        "    origin_git = [\"https://github.com/Johansmm/air-polution-sensor.git\"]\n",
        "    origin_git = \"\\\"\" + origin_git[0].replace(\"https://\",\"https://{}:{}@\".format(user_git, pwd_git)) + \"\\\"\"\n",
        "    !git clone \"$origin_git\"\n",
        "    repo_pwd = pwd + \"air-polution-sensor/\"\n",
        "\n",
        "%cd $repo_pwd\n",
        "if not os.path.isdir(\"./data\") or download_db:\n",
        "    # os.mkdir(\"./data\")\n",
        "    !wget --output-document=\"./data/data.zip\" \"https://www.dropbox.com/sh/w1704rg9fd9z4pq/AABG3YCUMHTwbFhf3pKgti-Qa/PuneData_UseThis/August2019?dl=0&subfolder_nav_tracking=1\"\n",
        "    !unzip \"./data/data.zip\" -d \"./data\"\n",
        "\n",
        "output.clear()\n",
        "print(\"[INFO]: Repository and data downloaded successfully!\")"
      ],
      "execution_count": 16,
      "outputs": [
        {
          "output_type": "stream",
          "text": [
            "[INFO]: Repository and data downloaded successfully!\n"
          ],
          "name": "stdout"
        }
      ]
    },
    {
      "cell_type": "code",
      "metadata": {
        "id": "B9FmgEdBIUxB",
        "outputId": "9be3b2e8-70ef-401d-ac5c-b844dae5ab05",
        "colab": {
          "base_uri": "https://localhost:8080/"
        }
      },
      "source": [
        "# Specefic libraries\n",
        "!pip install -r requirements.txt\n",
        "from libraries.global_functions import *\n",
        "import pygsp, ipywidgets"
      ],
      "execution_count": 25,
      "outputs": [
        {
          "output_type": "stream",
          "text": [
            "Requirement already satisfied: scipy in /usr/local/lib/python3.6/dist-packages (from -r requirements.txt (line 1)) (1.4.1)\n",
            "Requirement already satisfied: pygsp in /usr/local/lib/python3.6/dist-packages (from -r requirements.txt (line 2)) (0.5.1)\n",
            "Requirement already satisfied: pyprof2calltree in /usr/local/lib/python3.6/dist-packages (from -r requirements.txt (line 3)) (1.4.5)\n",
            "Requirement already satisfied: numpy>=1.13.3 in /usr/local/lib/python3.6/dist-packages (from scipy->-r requirements.txt (line 1)) (1.18.5)\n"
          ],
          "name": "stdout"
        }
      ]
    },
    {
      "cell_type": "markdown",
      "metadata": {
        "id": "SHUePVT20CNs"
      },
      "source": [
        "## ***Anexos: GitHub-Colab connection***\n",
        "Here, some commands to upload the github respository"
      ]
    },
    {
      "cell_type": "code",
      "metadata": {
        "id": "Teasr5DEz_xw",
        "outputId": "d8151a75-2400-4682-b594-633be6c6143b",
        "colab": {
          "base_uri": "https://localhost:8080/"
        }
      },
      "source": [
        "# Colab libraries\n",
        "if IN_COLAB:\n",
        "    from google.colab import drive\n",
        "    from google.colab import output\n",
        "    drive.mount('/content/gdrive')\n",
        "\n",
        "    %cd $repo_pwd\n",
        "    !git branch \n",
        "    # !git config --list\n",
        "    # !git commit -am \"Updating in colab\"\n",
        "    !git pull\n",
        "    # !git status"
      ],
      "execution_count": 24,
      "outputs": [
        {
          "output_type": "stream",
          "text": [
            "Drive already mounted at /content/gdrive; to attempt to forcibly remount, call drive.mount(\"/content/gdrive\", force_remount=True).\n",
            "/content/gdrive/My Drive/Colab Notebooks/air-polution-sensor\n",
            "* \u001b[32mmain\u001b[m\n",
            "remote: Enumerating objects: 3, done.\u001b[K\n",
            "remote: Counting objects: 100% (3/3), done.\u001b[K\n",
            "remote: Compressing objects: 100% (1/1), done.\u001b[K\n",
            "remote: Total 2 (delta 1), reused 2 (delta 1), pack-reused 0\u001b[K\n",
            "Unpacking objects: 100% (2/2), done.\n",
            "From https://github.com/Johansmm/air-polution-sensor\n",
            "   edd0350..7beab26  main       -> origin/main\n",
            "Updating edd0350..7beab26\n",
            "Fast-forward\n",
            " requerements.txt => requirements.txt | 0\n",
            " 1 file changed, 0 insertions(+), 0 deletions(-)\n",
            " rename requerements.txt => requirements.txt (100%)\n"
          ],
          "name": "stdout"
        }
      ]
    },
    {
      "cell_type": "code",
      "metadata": {
        "id": "WKDzJJAbN7VN"
      },
      "source": [
        "# Colab libraries\n",
        "if IN_COLAB:\n",
        "    from google.colab import drive\n",
        "    from google.colab import output\n",
        "    import getpass\n",
        "    drive.mount('/content/gdrive')\n",
        "\n",
        "    %cd $repo_pwd\n",
        "    # del user, email\n",
        "    if \"user\" not in globals(): user_git = input(\"User github?: \")\n",
        "    if \"email\" not in globals(): email_git = input(\"Email github?: \")\n",
        "\n",
        "    # Password login\n",
        "    try: \n",
        "        pwd_git = getpass.getpass(prompt='{} github password: '.format(user_git)) \n",
        "    except Exception as error: \n",
        "        print('ERROR', error) \n",
        "\n",
        "    # Upload from every where\n",
        "    origin_git = !git config --get remote.origin.url\n",
        "    origin_git = origin_git[0].replace(\"https://\",\"https://{}:{}@\".format(user_git,pwd_git))\n",
        "\n",
        "    !git config --global user.email $email_git\n",
        "    !git config --global user.name $user_git\n",
        "    !git status\n",
        "\n",
        "    x = \" \"\n",
        "    while x.lower() != \"y\" and x.lower() != \"n\": x = input(\"Continue?...[y/n]: \")\n",
        "\n",
        "    if x.lower() == \"y\":\n",
        "        com_message = input(\"Enter the commit message: \")\n",
        "        !git add .\n",
        "        !git commit -am $com_message\n",
        "        !git push $origin\n",
        "        !git status\n",
        "    del origin_git, user_git"
      ],
      "execution_count": null,
      "outputs": []
    }
  ]
}