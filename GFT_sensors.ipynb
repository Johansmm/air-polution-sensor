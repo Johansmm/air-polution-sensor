{
  "nbformat": 4,
  "nbformat_minor": 0,
  "metadata": {
    "colab": {
      "name": "Code_description.ipynb",
      "provenance": [],
      "collapsed_sections": [
        "5urFRA1Fa0Pu",
        "na7N2x0UzM8S",
        "m4yGu6pHz3sQ",
        "SHUePVT20CNs"
      ],
      "toc_visible": true
    },
    "kernelspec": {
      "display_name": "Python 3",
      "language": "python",
      "name": "python3"
    },
    "language_info": {
      "codemirror_mode": {
        "name": "ipython",
        "version": 3
      },
      "file_extension": ".py",
      "mimetype": "text/x-python",
      "name": "python",
      "nbconvert_exporter": "python",
      "pygments_lexer": "ipython3",
      "version": "3.6.9"
    }
  },
  "cells": [
    {
      "cell_type": "markdown",
      "metadata": {
        "id": "M_YQLSc_IHJc"
      },
      "source": [
        " # Analyse spatio-temporelle de signaux pour détecter la dérive de capteurs mesurant la qualité de l'air\n",
        " \n",
        " Project summary (coming soon) ..."
      ]
    },
    {
      "cell_type": "markdown",
      "metadata": {
        "id": "ox-7Xry6Khia"
      },
      "source": [
        "## Introduction"
      ]
    },
    {
      "cell_type": "code",
      "metadata": {
        "id": "VUcPLCl2mTts",
        "colab": {
          "base_uri": "https://localhost:8080/"
        },
        "outputId": "b1b30ce6-aea2-43d4-9353-d28b2aaa4067"
      },
      "source": [
        "# Libraries\n",
        "# Basis libraries \n",
        "import sys, getpass, os\n",
        "import numpy as np\n",
        "import scipy.signal\n",
        "from IPython.display import clear_output\n",
        "\n",
        "# Colab libraries\n",
        "IN_COLAB = 'google.colab' in sys.modules\n",
        "if IN_COLAB:\n",
        "    from google.colab import drive\n",
        "    drive.mount('/content/gdrive')\n",
        "    pwd = \"/content/gdrive/My Drive/S5 Project: Air polution/\"    \n",
        "else:\n",
        "    pwd = \"./\"\n",
        "repo_pwd = pwd + \"air-polution-sensor/\""
      ],
      "execution_count": 15,
      "outputs": [
        {
          "output_type": "stream",
          "text": [
            "Drive already mounted at /content/gdrive; to attempt to forcibly remount, call drive.mount(\"/content/gdrive\", force_remount=True).\n"
          ],
          "name": "stdout"
        }
      ]
    },
    {
      "cell_type": "markdown",
      "metadata": {
        "id": "uTMEWxUCIHJj"
      },
      "source": [
        "## Download repository\n",
        "First, we will download the repository that contains the project [air-polution-sensor](https://github.com/Johansmm/air-polution-sensor.git). This process is optional, being necessary to activate the flag `download_repo` and enter the `user`, `email` and `password` of the repository (since the repository is initially private). Additionally you can enable the `download_db` option to download the database."
      ]
    },
    {
      "cell_type": "code",
      "metadata": {
        "id": "M_ArY6OPIHJk",
        "colab": {
          "base_uri": "https://localhost:8080/"
        },
        "outputId": "65a8acb7-9df7-491d-b2f4-218790e14026"
      },
      "source": [
        "%cd \"$pwd\"\n",
        "download_repo, download_db = False, False\n",
        "if not os.path.isdir(\"air-polution-sensor\") and download_repo:\n",
        "    # Repository clone\n",
        "    # del user_git, pwd_git, email_git\n",
        "    if \"user_git\" not in globals(): user_git = input(\"User github?: \")\n",
        "    try: \n",
        "        pwd_git = getpass.getpass(prompt='{} github password: '.format(user_git)) \n",
        "    except Exception as error: \n",
        "        print('ERROR', error) \n",
        "    \n",
        "    origin_git = [\"https://github.com/Johansmm/air-polution-sensor.git\"]\n",
        "    origin_git = \"\\\"\" + origin_git[0].replace(\"https://\",\"https://{}:{}@\".format(user_git, pwd_git)) + \"\\\"\"\n",
        "    !git clone \"$origin_git\"\n",
        "    repo_pwd = pwd + \"air-polution-sensor/\"\n",
        "\n",
        "%cd $repo_pwd\n",
        "if not os.path.isdir(\"./data\") and download_db:\n",
        "    if not os.path.isdir(\"./data\"): os.mkdir(\"./data\")\n",
        "    !wget --output-document=\"./data/data.zip\" \"https://www.dropbox.com/sh/w1704rg9fd9z4pq/AABG3YCUMHTwbFhf3pKgti-Qa/PuneData_UseThis/August2019?dl=0&subfolder_nav_tracking=1\"\n",
        "    !unzip \"./data/data.zip\" -d \"./data\"\n",
        "\n",
        "clear_output(wait = True)\n",
        "print(\"[INFO]: Repository and data downloaded successfully!\")"
      ],
      "execution_count": 20,
      "outputs": [
        {
          "output_type": "stream",
          "text": [
            "[INFO]: Repository and data downloaded successfully!\n"
          ],
          "name": "stdout"
        }
      ]
    },
    {
      "cell_type": "code",
      "metadata": {
        "id": "B9FmgEdBIUxB",
        "colab": {
          "base_uri": "https://localhost:8080/"
        },
        "outputId": "c907b75b-26d9-4994-a901-a0e395b421b9"
      },
      "source": [
        "# Specefic libraries\n",
        "!pip install -r requirements.txt\n",
        "from libraries.global_functions import *\n",
        "import pygsp, ipywidgets"
      ],
      "execution_count": 21,
      "outputs": [
        {
          "output_type": "stream",
          "text": [
            "Requirement already satisfied: scipy in /usr/local/lib/python3.6/dist-packages (from -r requirements.txt (line 1)) (1.4.1)\n",
            "Collecting pygsp\n",
            "\u001b[?25l  Downloading https://files.pythonhosted.org/packages/d4/89/2f4aa73cccf12bec5179ac5d52a68b508120c838b7e5d456f5ea0c8beade/PyGSP-0.5.1-py2.py3-none-any.whl (1.8MB)\n",
            "\u001b[K     |████████████████████████████████| 1.8MB 5.7MB/s \n",
            "\u001b[?25hCollecting pyprof2calltree\n",
            "  Downloading https://files.pythonhosted.org/packages/ca/2a/e9a76261183b4b5e059a6625d7aae0bcb0a77622bc767d4497148ce2e218/pyprof2calltree-1.4.5.tar.gz\n",
            "Requirement already satisfied: numpy>=1.13.3 in /usr/local/lib/python3.6/dist-packages (from scipy->-r requirements.txt (line 1)) (1.18.5)\n",
            "Building wheels for collected packages: pyprof2calltree\n",
            "  Building wheel for pyprof2calltree (setup.py) ... \u001b[?25l\u001b[?25hdone\n",
            "  Created wheel for pyprof2calltree: filename=pyprof2calltree-1.4.5-py2.py3-none-any.whl size=8853 sha256=97533cd9f3e787d547e3f4c02563ba1059a3de7ef2c1c6600ddc037735969dca\n",
            "  Stored in directory: /root/.cache/pip/wheels/f8/06/eb/3541ad6ee77e330ed80201876132db01d030f5c4c1fb679614\n",
            "Successfully built pyprof2calltree\n",
            "Installing collected packages: pygsp, pyprof2calltree\n",
            "Successfully installed pygsp-0.5.1 pyprof2calltree-1.4.5\n"
          ],
          "name": "stdout"
        }
      ]
    },
    {
      "cell_type": "markdown",
      "metadata": {
        "id": "SHUePVT20CNs"
      },
      "source": [
        "## ***Anexos: GitHub-Colab connection***\n",
        "Here, some commands to upload/save the github respository"
      ]
    },
    {
      "cell_type": "code",
      "metadata": {
        "id": "Teasr5DEz_xw"
      },
      "source": [
        "''' Function definitions'''\n",
        "# Git pull\n",
        "def git_pull(repo_pwd, show_current_branch = False, make_commit = False): # Only for colab space work\n",
        "    import sys\n",
        "    IN_COLAB = 'google.colab' in sys.modules\n",
        "    if IN_COLAB:\n",
        "        from google.colab import drive\n",
        "        drive.mount('/content/gdrive')\n",
        "\n",
        "        %cd \"$repo_pwd\"\n",
        "        # !git config --list\n",
        "        if show_current_branch: \n",
        "            !git branch \n",
        "        if make_commit: \n",
        "            !git commit -am \"Updating in colab\"\n",
        "        !git pull\n",
        "        !git status\n",
        "    else:\n",
        "        print(\"[INFO] You are not in collaboration, nothing has been done.\")\n",
        "\n",
        "# Git push\n",
        "def git_push(repo_pwd): # Only for colab space work\n",
        "    import sys\n",
        "    IN_COLAB = 'google.colab' in sys.modules\n",
        "    if IN_COLAB:\n",
        "        from google.colab import drive\n",
        "        import getpass\n",
        "        drive.mount('/content/gdrive')\n",
        "\n",
        "        %cd \"$repo_pwd\"\n",
        "        if \"user\" not in globals(): user_git = input(\"User github?: \")\n",
        "        if \"email\" not in globals(): email_git = input(\"Email github?: \")\n",
        "\n",
        "        # Password login\n",
        "        try: \n",
        "            pwd_git = getpass.getpass(prompt='{} github password: '.format(user_git)) \n",
        "        except Exception as error: \n",
        "            print('ERROR', error) \n",
        "\n",
        "        # Upload from every where\n",
        "        origin_git = !git config --get remote.origin.url\n",
        "        origin_git = origin_git[0].replace(\"https://\",\"https://{}:{}@\".format(user_git,pwd_git))\n",
        "\n",
        "        !git config --global user.email $email_git\n",
        "        !git config --global user.name $user_git\n",
        "        !git status\n",
        "\n",
        "        x = \" \"\n",
        "        while x.lower() != \"y\" and x.lower() != \"n\": x = input(\"Continue?...[y/n]: \")\n",
        "\n",
        "        if x.lower() == \"y\":\n",
        "            com_message = input(\"Enter the commit message: \")\n",
        "            !git add .\n",
        "            !git commit -am $com_message\n",
        "            !git push $origin\n",
        "            !git status\n",
        "    else:\n",
        "        print(\"[INFO] You are not in collaboration, nothing has been done.\")"
      ],
      "execution_count": 28,
      "outputs": []
    },
    {
      "cell_type": "markdown",
      "metadata": {
        "id": "zNJ68hztrBN_"
      },
      "source": [
        "In order to execute the functions, please unlock the respective function"
      ]
    },
    {
      "cell_type": "code",
      "metadata": {
        "colab": {
          "base_uri": "https://localhost:8080/"
        },
        "id": "tNPGLIe1q37C",
        "outputId": "e49daf0b-c481-462c-8936-1eab7e4f74b0"
      },
      "source": [
        "#git_pull(repo_pwd, show_current_branch = False, make_commit = False)\n",
        "git_push(repo_pwd)"
      ],
      "execution_count": 29,
      "outputs": [
        {
          "output_type": "stream",
          "text": [
            "Drive already mounted at /content/gdrive; to attempt to forcibly remount, call drive.mount(\"/content/gdrive\", force_remount=True).\n",
            "/content/gdrive/My Drive/S5 Project: Air polution/air-polution-sensor\n",
            "Already up to date.\n",
            "On branch main\n",
            "Your branch is up to date with 'origin/main'.\n",
            "\n",
            "nothing to commit, working tree clean\n"
          ],
          "name": "stdout"
        }
      ]
    }
  ]
}