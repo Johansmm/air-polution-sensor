{
 "cells": [
  {
   "cell_type": "markdown",
   "metadata": {},
   "source": [
    " # Analyse spatio-temporelle de signaux pour détecter la dérive de capteurs mesurant la qualité de l'air\n",
    " \n",
    " Project summary (coming soon) ..."
   ]
  },
  {
   "cell_type": "markdown",
   "metadata": {
    "id": "ox-7Xry6Khia"
   },
   "source": [
    "## Introduction"
   ]
  },
  {
   "cell_type": "code",
   "execution_count": 14,
   "metadata": {
    "colab": {
     "base_uri": "https://localhost:8080/"
    },
    "id": "VUcPLCl2mTts",
    "outputId": "d52e6cbd-f72f-4d43-9250-64ad621ab394"
   },
   "outputs": [],
   "source": [
    "# Libraries\n",
    "# Basis libraries\n",
    "import sys, getpass\n",
    "from libraries.global_functions import *\n",
    "import numpy as np\n",
    "import scipy.signal\n",
    "import pygsp, ipywidgets\n",
    "\n",
    "# Colab libraries\n",
    "IN_COLAB = 'google.colab' in sys.modules\n",
    "if IN_COLAB:\n",
    "    from google.colab import drive\n",
    "    from google.colab import output\n",
    "    drive.mount('/content/gdrive')\n",
    "    pwd = \"/content/gdrive/My Drive/Colab Notebooks/\"\n",
    "else:\n",
    "    pwd = \"./\""
   ]
  },
  {
   "cell_type": "markdown",
   "metadata": {},
   "source": [
    "## Download repository\n",
    "First, we will download the repository that contains the project [air-polution-sensor](https://github.com/Johansmm/air-polution-sensor.git). This process is optional, being necessary to activate the flag `download_repo` and enter the `user`, `email` and `password` of the repository (since the repository is initially private). Additionally you can enable the `download_db` option to download the database."
   ]
  },
  {
   "cell_type": "code",
   "execution_count": 15,
   "metadata": {},
   "outputs": [
    {
     "name": "stdout",
     "output_type": "stream",
     "text": [
      "/mnt/d/Nextcloud/2nd semestre/air-polution-sensor\n",
      "/mnt/d/Nextcloud/2nd semestre/air-polution-sensor\n"
     ]
    }
   ],
   "source": [
    "%cd $pwd\n",
    "download_repo, download_db = False, False\n",
    "if not os.path.isdir(\"air-polution-sensor\") and download_repo:\n",
    "    # Repository clone\n",
    "    if \"user_git\" not in globals(): user_git = input(\"User github?: \")\n",
    "    if \"email_git\" not in globals(): email_git = input(\"Email github?: \")\n",
    "    try: \n",
    "        pwd_git = getpass.getpass(prompt='{} github password: '.format(user)) \n",
    "    except Exception as error: \n",
    "        print('ERROR', error) \n",
    "    \n",
    "    origin_git = !git config --get remote.origin.url\n",
    "    origin_git = origin_git[0].replace(\"https://\",\"https://{}:{}@\".format(user_git, pwd_git))\n",
    "    !git clone $origin_git\n",
    "    pwd += \"air-polution-sensor/\"\n",
    "%cd $pwd\n",
    "\n",
    "if not os.path.isdir(\"./data\") and download_db:\n",
    "    os.mkdir(\"./data\")\n",
    "    !wget --output-document=\"./data/data.zip\" \"https://uc8689f9cd2b3b9b9067d3dd28b0.dl.dropboxusercontent.com/zip_download_get/AmAIQGaOPV4MlqykYjPP4Z7DGmKaNvqW-476TrU2qOXOB4VX-PgmxZ93K-JK1ZMwvDY_BFn7ZMNxrmBPVsGTLDkMEokvUVxpx4iKwleJE-FizA?_download_id=4616465976621706457502058268179201998947561606634307199865778285175&_notify_domain=www.dropbox.com&dl=1\"\n",
    "    !unzip ./data/data.zip -d ./data"
   ]
  },
  {
   "cell_type": "markdown",
   "metadata": {
    "id": "SHUePVT20CNs"
   },
   "source": [
    "## ***Anexos: GitHub-Colab connection***\n",
    "Here, some commands to upload the github respository"
   ]
  },
  {
   "cell_type": "code",
   "execution_count": 4,
   "metadata": {
    "colab": {
     "base_uri": "https://localhost:8080/"
    },
    "id": "Teasr5DEz_xw",
    "outputId": "a6c3420a-5e3a-417d-ff49-0b44d190b994"
   },
   "outputs": [],
   "source": [
    "# Colab libraries\n",
    "if IN_COLAB:\n",
    "    from google.colab import drive\n",
    "    from google.colab import output\n",
    "    drive.mount('/content/gdrive')\n",
    "\n",
    "    %cd \"/content/gdrive/My Drive/Colab Notebooks/RT-multiperson-pose-pytorch\"\n",
    "    !git branch \n",
    "    # !git config --list\n",
    "    # !git commit -am \"Updating in colab\"\n",
    "    !git pull\n",
    "    # !git status"
   ]
  },
  {
   "cell_type": "code",
   "execution_count": 3,
   "metadata": {
    "id": "WKDzJJAbN7VN"
   },
   "outputs": [],
   "source": [
    "# Colab libraries\n",
    "if IN_COLAB:\n",
    "    from google.colab import drive\n",
    "    from google.colab import output\n",
    "    import getpass\n",
    "    drive.mount('/content/gdrive')\n",
    "\n",
    "    %cd \"/content/gdrive/My Drive/Colab Notebooks/RT-multiperson-pose-pytorch\"\n",
    "    # del user, email\n",
    "    if \"user\" not in globals(): user = input(\"User github?: \")\n",
    "    if \"email\" not in globals(): email = input(\"Email github?: \")\n",
    "\n",
    "    # Password login\n",
    "    try: \n",
    "        pwd = getpass.getpass(prompt='{} github password: '.format(user)) \n",
    "    except Exception as error: \n",
    "        print('ERROR', error) \n",
    "\n",
    "    # Upload from every where\n",
    "    origin = !git config --get remote.origin.url\n",
    "    origin = origin[0].replace(\"https://\",\"https://{}:{}@\".format(user,pwd))\n",
    "\n",
    "    !git config --global user.email $email\n",
    "    !git config --global user.name $user\n",
    "    !git status\n",
    "\n",
    "    x = \" \"\n",
    "    while x.lower() != \"y\" and x.lower() != \"n\": x = input(\"Continue?...[y/n]: \")\n",
    "\n",
    "    if x.lower() == \"y\":\n",
    "        com_message = input(\"Enter the commit message: \")\n",
    "        !git add .\n",
    "        !git commit -am $com_message\n",
    "        !git push $origin\n",
    "        !git status\n",
    "    del origin, pwd"
   ]
  }
 ],
 "metadata": {
  "accelerator": "GPU",
  "colab": {
   "collapsed_sections": [
    "5urFRA1Fa0Pu",
    "na7N2x0UzM8S",
    "m4yGu6pHz3sQ",
    "SHUePVT20CNs"
   ],
   "name": "Code_description.ipynb",
   "provenance": []
  },
  "kernelspec": {
   "display_name": "Python 3",
   "language": "python",
   "name": "python3"
  },
  "language_info": {
   "codemirror_mode": {
    "name": "ipython",
    "version": 3
   },
   "file_extension": ".py",
   "mimetype": "text/x-python",
   "name": "python",
   "nbconvert_exporter": "python",
   "pygments_lexer": "ipython3",
   "version": "3.6.9"
  }
 },
 "nbformat": 4,
 "nbformat_minor": 1
}
